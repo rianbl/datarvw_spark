{
  "cells": [
    {
      "cell_type": "markdown",
      "metadata": {
        "id": "5lfKXKxtte_a"
      },
      "source": [
        "![picture](https://drive.google.com/uc?export=view&id=1K_GhwMAZaYPEqm-0ukMBxfmBew7N6GXA)<br>\n",
        "<small>Rian Lopes</small><br>\n",
        "\n",
        "Inscreva-se no canal <br>[Data Review](https://www.youtube.com/channel/UCYfY8KRS5nqoFBTuoLV0_jw) <br>\n",
        "E siga nas redes sociais <br> [Instagram Data Review](https://www.instagram.com/data.review/)\n",
        "<br>\n",
        "<br>\n",
        "<h1>Spark for Data Science and Machine Learning</h1>\n",
        "<h2>MLLib for Classification and NLP</h2>\n"
      ]
    },
    {
      "cell_type": "markdown",
      "source": [
        "![picture](https://www.researchgate.net/profile/Safae-Sossi-Alaoui/publication/336205322/figure/fig2/AS:821889891041280@1572965228422/Spark-Ecosystem-C-Selected-algorithm-Spark-MLlib-MLlib-Main-Guide-Spark-220.ppm)"
      ],
      "metadata": {
        "id": "jFk-rgR-zHuQ"
      }
    },
    {
      "cell_type": "markdown",
      "metadata": {
        "id": "S8ilXBI31yIk"
      },
      "source": [
        "<h2>Yelp Dataset Reviews</h2>\n",
        "é um conjunto de dados disponibilizado pela Yelp, contendo informações sobre avaliações de estabelecimentos como restaurantes, hotéis e lojas. Esse conjunto inclui dados como a avaliação, o texto da crítica, informações sobre o autor da avaliação, categoria do negócio, e muito mais. É amplamente utilizado para projetos de análise de sentimentos, classificação de texto e recomendação de negócios.\n",
        "\n",
        "[Yelp Dataset Reviews](https://business.yelp.com/data/resources/open-dataset/)"
      ]
    },
    {
      "cell_type": "markdown",
      "source": [
        "![picture](https://www.solulab.com/wp-content/uploads/2024/01/Top-10-Applications-of-AI-in-NLP.png)"
      ],
      "metadata": {
        "id": "3gOz6SoS3MRB"
      }
    },
    {
      "cell_type": "markdown",
      "source": [
        "<h2> Classificação de Textos </h2>\n"
      ],
      "metadata": {
        "id": "AzinZoCBUNVX"
      }
    },
    {
      "cell_type": "markdown",
      "source": [
        "![picture](https://cdn.prod.website-files.com/66966f43bae9fc1ac7cabd7d/678922d088eaa1a4446b04fd_66ab1539719e969b6a55efff_667416ac74eb64dc5cdf12ef_647882000ca01225cd800c11_iMITeHSnsnfPvxPg.png)"
      ],
      "metadata": {
        "id": "cQZiJnBpUTSH"
      }
    },
    {
      "cell_type": "markdown",
      "source": [
        "# Obtenção dos dados e análise exploratória"
      ],
      "metadata": {
        "id": "31yLHOloS85J"
      }
    },
    {
      "cell_type": "code",
      "execution_count": null,
      "metadata": {
        "id": "9fIm-xL_tKiL"
      },
      "outputs": [],
      "source": [
        "# from google.colab import drive\n",
        "# # Mount Google Drive\n",
        "# drive.mount('/content/drive')"
      ]
    },
    {
      "cell_type": "code",
      "execution_count": null,
      "metadata": {
        "id": "LX_BgVRd1Lll"
      },
      "outputs": [],
      "source": [
        "### Origin folder ##\n",
        "\n",
        "## IF retrieve from local Drive\n",
        "\n",
        "tar_file_path = '/content/drive/MyDrive/spark/Yelp-JSON.zip'      ##'/content/drive/sua_pasta'"
      ]
    },
    {
      "cell_type": "code",
      "execution_count": null,
      "metadata": {
        "id": "95XrukJEmoza"
      },
      "outputs": [],
      "source": [
        "# ## IF download straight to Colab Notebook\n",
        "# !mkdir /content/yelp\n",
        "\n",
        "# import requests\n",
        "# import zipfile\n",
        "# import io\n",
        "\n",
        "# # URL for the Yelp dataset ZIP file\n",
        "# url = 'https://business.yelp.com/external-assets/files/Yelp-JSON.zip'\n",
        "\n",
        "# # Setting the headers to simulate a browser request\n",
        "# headers = {\n",
        "#     'User-Agent': 'Mozilla/5.0 (Windows NT 10.0; Win64; x64) AppleWebKit/537.36 (KHTML, like Gecko) Chrome/58.0.3029.110 Safari/537.36'\n",
        "# }\n",
        "\n",
        "# # Download the ZIP file\n",
        "# response = requests.get(url, headers=headers)\n",
        "\n",
        "# # Check if the request was successful\n",
        "# if response.status_code == 200:\n",
        "#     # Open the ZIP file in memory\n",
        "#     zip_content = io.BytesIO(response.content)\n",
        "\n",
        "#     # Extract the contents of the ZIP file\n",
        "#     with zipfile.ZipFile(zip_content, 'r') as zip_ref:\n",
        "#         zip_ref.extractall(destination_path)  # Extract to a folder in Colab\n",
        "#     print(\"Download and extraction complete!\")\n",
        "# else:\n",
        "#     print(f\"Failed to download the file. HTTP Status code: {response.status_code}\")\n",
        "\n",
        "# # Define the path to the .tar file\n",
        "# tar_file_path = '/content/yelp/yelp_dataset/Yelp JSON/yelp_dataset.tar'\n"
      ]
    },
    {
      "cell_type": "code",
      "execution_count": null,
      "metadata": {
        "id": "vkeNLIQFrgps",
        "colab": {
          "base_uri": "https://localhost:8080/"
        },
        "outputId": "5c10bfd8-d83e-441d-f028-d360ce5d9eee"
      },
      "outputs": [
        {
          "output_type": "stream",
          "name": "stdout",
          "text": [
            "Extraction complete. Files are extracted to: /content/datasets\n"
          ]
        }
      ],
      "source": [
        "import tarfile\n",
        "import zipfile\n",
        "import os\n",
        "\n",
        "# Path ZIP\n",
        "zip_path = \"/content/drive/MyDrive/spark/Yelp-JSON.zip\"\n",
        "zip_destination_path = \"/content\"\n",
        "\n",
        "# Extraindo os arquivos\n",
        "with zipfile.ZipFile(zip_path, 'r') as zip_ref:\n",
        "    zip_ref.extractall(zip_destination_path)\n",
        "\n",
        "#Path TAR\n",
        "tar_file_path = '/content/Yelp JSON/yelp_dataset.tar'\n",
        "\n",
        "# Define the extraction directory\n",
        "extraction_path = '/content/datasets'     ##'/content/drive/sua_pasta_para_datasets'\n",
        "\n",
        "# Create the directory if it doesn't exist\n",
        "os.makedirs(extraction_path, exist_ok=True)\n",
        "\n",
        "# Extract the tar file\n",
        "with tarfile.open(tar_file_path, 'r') as tar:\n",
        "    tar.extractall(path=extraction_path)\n",
        "\n",
        "print(f\"Extraction complete. Files are extracted to: {extraction_path}\")\n"
      ]
    },
    {
      "cell_type": "code",
      "execution_count": null,
      "metadata": {
        "id": "ihamx3dcr_nm",
        "colab": {
          "base_uri": "https://localhost:8080/"
        },
        "outputId": "31aa1b7e-54ce-4fdc-e700-f9650788b387"
      },
      "outputs": [
        {
          "output_type": "stream",
          "name": "stdout",
          "text": [
            "Extracted files: ['yelp_academic_dataset_tip.json', 'yelp_academic_dataset_business.json', 'yelp_academic_dataset_user.json', 'yelp_academic_dataset_checkin.json', 'Dataset_User_Agreement.pdf', 'yelp_academic_dataset_review.json']\n"
          ]
        }
      ],
      "source": [
        "# List the files in the extracted directory\n",
        "extracted_files = os.listdir(extraction_path)\n",
        "print(\"Extracted files:\", extracted_files)\n"
      ]
    },
    {
      "cell_type": "code",
      "execution_count": null,
      "metadata": {
        "id": "7NQTjoB4uhsy",
        "colab": {
          "base_uri": "https://localhost:8080/"
        },
        "outputId": "063ac7d5-9776-435f-d25b-4bf075d721b0"
      },
      "outputs": [
        {
          "output_type": "stream",
          "name": "stdout",
          "text": [
            "+--------------------+----+-------------------+-----+--------------------+-----+--------------------+------+--------------------+\n",
            "|         business_id|cool|               date|funny|           review_id|stars|                text|useful|             user_id|\n",
            "+--------------------+----+-------------------+-----+--------------------+-----+--------------------+------+--------------------+\n",
            "|XQfwVwDr-v0ZS3_Cb...|   0|2018-07-07 22:09:11|    0|KU_O5udG6zpxOg-Vc...|  3.0|If you decide to ...|     0|mh_-eMZ6K5RLWhZyI...|\n",
            "|7ATYjTIgM3jUlt4UM...|   1|2012-01-03 15:28:18|    0|BiTunyQ73aT9WBnpR...|  5.0|I've taken a lot ...|     1|OyoGAe7OKpv6SyGZT...|\n",
            "|YjUWPpI6HXG530lwP...|   0|2014-02-05 20:30:30|    0|saUsX_uimxRlCVr67...|  3.0|Family diner. Had...|     0|8g_iMtfSiwikVnbP2...|\n",
            "|kxX2SOes4o-D3ZQBk...|   1|2015-01-04 00:01:03|    0|AqPFMleE6RsU23_au...|  5.0|Wow!  Yummy, diff...|     1|_7bHUi9Uuf5__HHc_...|\n",
            "|e4Vwtrqf-wpJfwesg...|   1|2017-01-14 20:54:15|    0|Sx8TMOWLNuJBWer-0...|  4.0|Cute interior and...|     1|bcjbaE6dDog4jkNY9...|\n",
            "|04UD14gamNjLY0IDY...|   1|2015-09-23 23:10:31|    2|JrIxlS1TzJ-iCu79u...|  1.0|I am a long term ...|     1|eUta8W_HdHMXPzLBB...|\n",
            "|gmjsEdUsKpj9Xxu6p...|   0|2015-01-03 23:21:18|    2|6AxgBCNX_PNTOxmbR...|  5.0|Loved this tour! ...|     0|r3zeYsv1XFBRA4dJp...|\n",
            "|LHSTtnW3YHCeUkRDG...|   0|2015-08-07 02:29:16|    0|_ZeMknuYdlQcUqng_...|  5.0|Amazingly amazing...|     2|yfFzsLmaWF2d4Sr0U...|\n",
            "|B5XSoSG3SfvQGtKEG...|   0|2016-03-30 22:46:33|    1|ZKvDG2sBvHVdF5oBN...|  3.0|This easter inste...|     1|wSTuiTk-sKNdcFypr...|\n",
            "|gebiRewfieSdtt17P...|   0|2016-07-25 07:31:06|    0|pUycOfUwM8vqX7KjR...|  3.0|Had a party of 6 ...|     0|59MxRhNVhU9MYndMk...|\n",
            "|uMvVYRgGNXf5boolA...|   0|2015-06-21 14:48:06|    0|rGQRf8UafX7OTlMNN...|  5.0|My experience wit...|     2|1WHRWwQmZOZDAhp2Q...|\n",
            "|EQ-TZ2eeD_E0BHuvo...|   0|2015-08-19 14:31:45|    0|l3Wk_mvAog6XANIuG...|  4.0|Locals recommende...|     0|ZbqSHbgCjzVAqaa7N...|\n",
            "|lj-E32x9_FA7GmUrB...|   0|2014-06-27 22:44:01|    0|XW_LfMv0fV21l9c6x...|  4.0|Love going here f...|     0|9OAtfnWag-ajVxRbU...|\n",
            "|RZtGWDLCAtuipwaZ-...|   0|2009-10-14 19:57:14|    0|8JFGBuHMoiNDyfcxu...|  4.0|Good food--loved ...|     0|smOvOajNG0lS4Pq7d...|\n",
            "|otQS34_MymijPTdNB...|   0|2011-10-27 17:12:05|    2|UBp0zWyH60Hmw6Fsa...|  4.0|The bun makes the...|     0|4Uh27DgGzsp6PqrH9...|\n",
            "|BVndHaLihEYbr76Z0...|   0|2014-10-11 16:22:06|    0|OAhBYw8IQ6wlfw1ow...|  5.0|Great place for b...|     0|1C2lxzUo1Hyye4RFI...|\n",
            "|YtSqYv1Q_pOltsVPS...|   0|2013-06-24 11:21:25|    0|oyaMhzBSwfGgemSGu...|  5.0|Tremendous servic...|     0|Dd1jQj7S-BFGqRbAp...|\n",
            "|rBdG_23USc7DletfZ...|   0|2014-08-10 19:41:43|    0|LnGZB0fjfgeVDVz5I...|  4.0|The hubby and I h...|     1|j2wlzrntrbKwyOcOi...|\n",
            "|CLEWowfkj-wKYJlQD...|   1|2016-03-07 00:02:18|    0|u2vzZaOqJ2feRshaa...|  5.0|I go to blow bar ...|     2|NDZvyYHTUWWu-kqgQ...|\n",
            "|eFvzHawVJofxSnD7T...|   0|2014-11-12 15:30:27|    0|Xs8Z8lmKkosqW5mw_...|  5.0|My absolute favor...|     0|IQsF3Rc6IgCzjVV9D...|\n",
            "+--------------------+----+-------------------+-----+--------------------+-----+--------------------+------+--------------------+\n",
            "only showing top 20 rows\n",
            "\n"
          ]
        }
      ],
      "source": [
        "from pyspark.sql import SparkSession\n",
        "\n",
        "# Criando uma sessão Spark\n",
        "spark = SparkSession.builder \\\n",
        "    .appName(\"Yelp Dataset\") \\\n",
        "    .getOrCreate()\n",
        "\n",
        "# Lendo o arquivo JSON para um DataFrame\n",
        "df = spark.read.json('/content/datasets/yelp_academic_dataset_review.json')\n",
        "\n",
        "## Exibindo dataset\n",
        "df.show()\n"
      ]
    },
    {
      "cell_type": "code",
      "execution_count": null,
      "metadata": {
        "id": "t9xKJ4VnvBMy",
        "colab": {
          "base_uri": "https://localhost:8080/"
        },
        "outputId": "b89e5ccc-c9ee-45cb-f0b9-d0983ee58a19"
      },
      "outputs": [
        {
          "output_type": "stream",
          "name": "stdout",
          "text": [
            "root\n",
            " |-- business_id: string (nullable = true)\n",
            " |-- cool: long (nullable = true)\n",
            " |-- date: string (nullable = true)\n",
            " |-- funny: long (nullable = true)\n",
            " |-- review_id: string (nullable = true)\n",
            " |-- stars: double (nullable = true)\n",
            " |-- text: string (nullable = true)\n",
            " |-- useful: long (nullable = true)\n",
            " |-- user_id: string (nullable = true)\n",
            "\n"
          ]
        }
      ],
      "source": [
        "## Exibindo schema\n",
        "df.printSchema()"
      ]
    },
    {
      "cell_type": "code",
      "execution_count": null,
      "metadata": {
        "id": "xBusqSrPwTie",
        "colab": {
          "base_uri": "https://localhost:8080/"
        },
        "outputId": "83d95be9-d2c5-400e-df96-47f489f53cd4"
      },
      "outputs": [
        {
          "output_type": "stream",
          "name": "stdout",
          "text": [
            "+-----------------------------------------------------------------------------------------------------------------------------------------------------------------------------------------------------------------------------------------------------------------------------------------------------------------------------------------------------------------------------------------------------------------------------------------------------------------------------------------------------------------------------------------------------------------------------------------------------------------------------------------------------------------------------------------------------------------------------------------------------------------------------------------------------------------------------------------------------------------+-----+\n",
            "|text                                                                                                                                                                                                                                                                                                                                                                                                                                                                                                                                                                                                                                                                                                                                                                                                                                                             |stars|\n",
            "+-----------------------------------------------------------------------------------------------------------------------------------------------------------------------------------------------------------------------------------------------------------------------------------------------------------------------------------------------------------------------------------------------------------------------------------------------------------------------------------------------------------------------------------------------------------------------------------------------------------------------------------------------------------------------------------------------------------------------------------------------------------------------------------------------------------------------------------------------------------------+-----+\n",
            "|If you decide to eat here, just be aware it is going to take about 2 hours from beginning to end. We have tried it multiple times, because I want to like it! I have been to it's other locations in NJ and never had a bad experience. \\n\\nThe food is good, but it takes a very long time to come out. The waitstaff is very young, but usually pleasant. We have just had too many experiences where we spent way too long waiting. We usually opt for another diner or restaurant on the weekends, in order to be done quicker.                                                                                                                                                                                                                                                                                                                              |3.0  |\n",
            "|I've taken a lot of spin classes over the years, and nothing compares to the classes at Body Cycle. From the nice, clean space and amazing bikes, to the welcoming and motivating instructors, every class is a top notch work out.\\n\\nFor anyone who struggles to fit workouts in, the online scheduling system makes it easy to plan ahead (and there's no need to line up way in advanced like many gyms make you do).\\n\\nThere is no way I can write this review without giving Russell, the owner of Body Cycle, a shout out. Russell's passion for fitness and cycling is so evident, as is his desire for all of his clients to succeed. He is always dropping in to classes to check in/provide encouragement, and is open to ideas and recommendations from anyone. Russell always wears a smile on his face, even when he's kicking your butt in class!|5.0  |\n",
            "|Family diner. Had the buffet. Eclectic assortment: a large chicken leg, fried jalapeño, tamale, two rolled grape leaves, fresh melon. All good. Lots of Mexican choices there. Also has a menu with breakfast served all day long. Friendly, attentive staff. Good place for a casual relaxed meal with no expectations. Next to the Clarion Hotel.                                                                                                                                                                                                                                                                                                                                                                                                                                                                                                              |3.0  |\n",
            "|Wow!  Yummy, different,  delicious.   Our favorite is the lamb curry and korma.  With 10 different kinds of naan!!!  Don't let the outside deter you (because we almost changed our minds)...go in and try something new!   You'll be glad you did!                                                                                                                                                                                                                                                                                                                                                                                                                                                                                                                                                                                                              |5.0  |\n",
            "|Cute interior and owner (?) gave us tour of upcoming patio/rooftop area which will be great on beautiful days like today. Cheese curds were very good and very filling. Really like that sandwiches come w salad, esp after eating too many curds! Had the onion, gruyere, tomato sandwich. Wasn't too much cheese which I liked. Needed something else...pepper jelly maybe. Would like to see more menu options added such as salads w fun cheeses. Lots of beer and wine as well as limited cocktails. Next time I will try one of the draft wines.                                                                                                                                                                                                                                                                                                           |4.0  |\n",
            "+-----------------------------------------------------------------------------------------------------------------------------------------------------------------------------------------------------------------------------------------------------------------------------------------------------------------------------------------------------------------------------------------------------------------------------------------------------------------------------------------------------------------------------------------------------------------------------------------------------------------------------------------------------------------------------------------------------------------------------------------------------------------------------------------------------------------------------------------------------------------+-----+\n",
            "only showing top 5 rows\n",
            "\n"
          ]
        }
      ],
      "source": [
        "## Selecionando colunas de interesse\n",
        "\n",
        "# df.select(['text', 'stars']).show(5, truncate=True)\n",
        "df.select(['text', 'stars']).show(5, truncate=False)"
      ]
    },
    {
      "cell_type": "code",
      "execution_count": null,
      "metadata": {
        "id": "8guorbpMxTU5"
      },
      "outputs": [],
      "source": [
        "## Criando um dataframe com as colunas de interesse\n",
        "\n",
        "df_reviews = df.select('text', 'stars')"
      ]
    },
    {
      "cell_type": "code",
      "execution_count": null,
      "metadata": {
        "id": "h6k0jIsO5AIM"
      },
      "outputs": [],
      "source": [
        "# Salvando o DataFrame em formato Parquet\n",
        "df_reviews.write.mode('overwrite').parquet('reviews') ##'/content/drive/sua_pasta_para_reviews'\n",
        "                                      ##.mode('overwrite').parquet('reviews') se o arquivo ja existe e vc quer sobreescrever"
      ]
    },
    {
      "cell_type": "code",
      "execution_count": null,
      "metadata": {
        "id": "Ga1quSnmw0uo",
        "colab": {
          "base_uri": "https://localhost:8080/"
        },
        "outputId": "aa6c68a3-18b9-490d-e0bb-54786aba9604"
      },
      "outputs": [
        {
          "output_type": "execute_result",
          "data": {
            "text/plain": [
              "6990280"
            ]
          },
          "metadata": {},
          "execution_count": 10
        }
      ],
      "source": [
        "## Número de reviews\n",
        "\n",
        "df_reviews.count()"
      ]
    },
    {
      "cell_type": "code",
      "execution_count": null,
      "metadata": {
        "id": "nMzg22kRxMMh",
        "colab": {
          "base_uri": "https://localhost:8080/"
        },
        "outputId": "40a90783-2a3b-4e15-a568-70f7577cce46"
      },
      "outputs": [
        {
          "output_type": "stream",
          "name": "stdout",
          "text": [
            "+-----+----------+\n",
            "|stars|no of rows|\n",
            "+-----+----------+\n",
            "|  1.0|   1069561|\n",
            "|  2.0|    544240|\n",
            "|  3.0|    691934|\n",
            "|  4.0|   1452918|\n",
            "|  5.0|   3231627|\n",
            "+-----+----------+\n",
            "\n"
          ]
        }
      ],
      "source": [
        "# Análise exploratória breve: contagem de reviews por estrela\n",
        "\n",
        "df_reviews.groupBy(\"stars\").count() \\\n",
        "    .withColumnRenamed(\"count\", \"no of rows\") \\\n",
        "    .orderBy(\"stars\") \\\n",
        "    .show()"
      ]
    },
    {
      "cell_type": "code",
      "execution_count": null,
      "metadata": {
        "id": "zKgrJLkryx-e",
        "colab": {
          "base_uri": "https://localhost:8080/"
        },
        "outputId": "a528bba4-6d68-4042-ca0c-a21c9b7c4bf2"
      },
      "outputs": [
        {
          "output_type": "stream",
          "name": "stdout",
          "text": [
            "A média de caracteres na coluna 'text' é: 567.7644364746477\n"
          ]
        }
      ],
      "source": [
        "from pyspark.sql.functions import length\n",
        "\n",
        "# Calcular a média do número de caracteres\n",
        "avg_length = df_reviews.withColumn(\"text_length\", length(df_reviews[\"text\"])).agg({\"text_length\": \"avg\"}).collect()[0][0]\n",
        "\n",
        "print(f\"A média de caracteres na coluna 'text' é: {avg_length}\")\n"
      ]
    },
    {
      "cell_type": "markdown",
      "metadata": {
        "id": "E2jpBtAD8Es3"
      },
      "source": [
        "# Pré-Processamento"
      ]
    },
    {
      "cell_type": "code",
      "execution_count": null,
      "metadata": {
        "id": "WxjntnXV8eDP",
        "colab": {
          "base_uri": "https://localhost:8080/"
        },
        "outputId": "c3d92e48-eae8-4768-926a-32b7cfe17f1c"
      },
      "outputs": [
        {
          "output_type": "stream",
          "name": "stdout",
          "text": [
            "+----+-----+\n",
            "|text|stars|\n",
            "+----+-----+\n",
            "+----+-----+\n",
            "\n"
          ]
        }
      ],
      "source": [
        "# Verificando se há valores vazios ou NaN em 'df_reviews'\n",
        "df_reviews.filter(df_reviews['text'].isNull() | (df_reviews['text'] == '') | df_reviews['stars'].isNull()).show()\n"
      ]
    },
    {
      "cell_type": "markdown",
      "metadata": {
        "id": "2GHF4-MyAMXC"
      },
      "source": [
        "\n",
        "\n",
        "\n",
        "![picture](https://www.researchgate.net/profile/Mohamed-Almadhoun/publication/375150807/figure/fig5/AS:11431281220734268@1706555413478/Performance-of-multi-class-classification-against-binary-classification-for-the-Arabic.ppm)<br>\n",
        "[Performance of multi-class classification against binary classification](https://www.researchgate.net/figure/Performance-of-multi-class-classification-against-binary-classification-for-the-Arabic_fig5_375150807)"
      ]
    },
    {
      "cell_type": "code",
      "execution_count": null,
      "metadata": {
        "id": "5rHvA8hV_c3a"
      },
      "outputs": [],
      "source": [
        "# Substituindo os valores de 'stars' para 1 ou 0, diretamente na coluna\n",
        "\n",
        "from pyspark.sql.functions import when\n",
        "\n",
        "df_reviews = df_reviews.withColumn(\n",
        "    \"stars\",\n",
        "    when(df_reviews[\"stars\"] == 5, 1).otherwise(0)\n",
        ")"
      ]
    },
    {
      "cell_type": "code",
      "execution_count": null,
      "metadata": {
        "id": "4NOdXQMh_yyz",
        "colab": {
          "base_uri": "https://localhost:8080/"
        },
        "outputId": "c563f608-8c35-4d50-8d9a-f5fe244b5b10"
      },
      "outputs": [
        {
          "output_type": "stream",
          "name": "stdout",
          "text": [
            "+-----+----------+\n",
            "|stars|no of rows|\n",
            "+-----+----------+\n",
            "|    0|   3758653|\n",
            "|    1|   3231627|\n",
            "+-----+----------+\n",
            "\n"
          ]
        }
      ],
      "source": [
        "df_reviews.groupBy(\"stars\").count() \\\n",
        "    .withColumnRenamed(\"count\", \"no of rows\") \\\n",
        "    .orderBy(\"stars\") \\\n",
        "    .show()"
      ]
    },
    {
      "cell_type": "markdown",
      "metadata": {
        "id": "DBVCRLW3_ZYj"
      },
      "source": [
        "# NLP"
      ]
    },
    {
      "cell_type": "markdown",
      "metadata": {
        "id": "gy9v55fZYarO"
      },
      "source": [
        "[MLLib Documentation](https://spark.apache.org/docs/3.5.4/ml-guide.html)"
      ]
    },
    {
      "cell_type": "code",
      "execution_count": null,
      "metadata": {
        "id": "MItOcA4aCxMi"
      },
      "outputs": [],
      "source": [
        "# Seleção das colunas relevantes e tratamento de dados nulos\n",
        "\n",
        "# Converter a coluna \"stars\" em uma coluna numérica \"label\" para a classificação\n",
        "from pyspark.ml.feature import StringIndexer\n",
        "\n",
        "indexer = StringIndexer(inputCol=\"stars\", outputCol=\"label\")\n",
        "df_reviews = indexer.fit(df_reviews).transform(df_reviews)\n"
      ]
    },
    {
      "cell_type": "code",
      "execution_count": null,
      "metadata": {
        "id": "jpUGE2mV6PEx",
        "colab": {
          "base_uri": "https://localhost:8080/"
        },
        "outputId": "6bb74579-ec77-4622-d214-fdbd3d00c996"
      },
      "outputs": [
        {
          "output_type": "execute_result",
          "data": {
            "text/plain": [
              "[Row(text=\"If you decide to eat here, just be aware it is going to take about 2 hours from beginning to end. We have tried it multiple times, because I want to like it! I have been to it's other locations in NJ and never had a bad experience. \\n\\nThe food is good, but it takes a very long time to come out. The waitstaff is very young, but usually pleasant. We have just had too many experiences where we spent way too long waiting. We usually opt for another diner or restaurant on the weekends, in order to be done quicker.\", stars=0, label=0.0)]"
            ]
          },
          "metadata": {},
          "execution_count": 17
        }
      ],
      "source": [
        "df_reviews.take(1)"
      ]
    },
    {
      "cell_type": "code",
      "execution_count": null,
      "metadata": {
        "id": "LyQFTZuY8JkA"
      },
      "outputs": [],
      "source": [
        "## Tokenização: dividir o texto em tokens (aqui tokens = palavras)\n",
        "from pyspark.ml.feature import Tokenizer\n",
        "\n",
        "tokenizer = Tokenizer(inputCol=\"text\", outputCol=\"words\")\n",
        "df_reviews = tokenizer.transform(df_reviews)"
      ]
    },
    {
      "cell_type": "code",
      "execution_count": null,
      "metadata": {
        "id": "zllIF_p3DZe3",
        "colab": {
          "base_uri": "https://localhost:8080/"
        },
        "outputId": "e0fc4a5f-36ea-4fc9-ee13-19d1d222e090"
      },
      "outputs": [
        {
          "output_type": "execute_result",
          "data": {
            "text/plain": [
              "[Row(text=\"If you decide to eat here, just be aware it is going to take about 2 hours from beginning to end. We have tried it multiple times, because I want to like it! I have been to it's other locations in NJ and never had a bad experience. \\n\\nThe food is good, but it takes a very long time to come out. The waitstaff is very young, but usually pleasant. We have just had too many experiences where we spent way too long waiting. We usually opt for another diner or restaurant on the weekends, in order to be done quicker.\", stars=0, label=0.0, words=['if', 'you', 'decide', 'to', 'eat', 'here,', 'just', 'be', 'aware', 'it', 'is', 'going', 'to', 'take', 'about', '2', 'hours', 'from', 'beginning', 'to', 'end.', 'we', 'have', 'tried', 'it', 'multiple', 'times,', 'because', 'i', 'want', 'to', 'like', 'it!', 'i', 'have', 'been', 'to', \"it's\", 'other', 'locations', 'in', 'nj', 'and', 'never', 'had', 'a', 'bad', 'experience.', '', '', 'the', 'food', 'is', 'good,', 'but', 'it', 'takes', 'a', 'very', 'long', 'time', 'to', 'come', 'out.', 'the', 'waitstaff', 'is', 'very', 'young,', 'but', 'usually', 'pleasant.', 'we', 'have', 'just', 'had', 'too', 'many', 'experiences', 'where', 'we', 'spent', 'way', 'too', 'long', 'waiting.', 'we', 'usually', 'opt', 'for', 'another', 'diner', 'or', 'restaurant', 'on', 'the', 'weekends,', 'in', 'order', 'to', 'be', 'done', 'quicker.'])]"
            ]
          },
          "metadata": {},
          "execution_count": 19
        }
      ],
      "source": [
        "df_reviews.take(1)"
      ]
    },
    {
      "cell_type": "code",
      "execution_count": null,
      "metadata": {
        "id": "7HBz05-EDkMw"
      },
      "outputs": [],
      "source": [
        "## Remoção de stopwords\n",
        "from pyspark.ml.feature import StopWordsRemover\n",
        "\n",
        "remover = StopWordsRemover(inputCol=\"words\", outputCol=\"filtered\")\n",
        "df_reviews = remover.transform(df_reviews)"
      ]
    },
    {
      "cell_type": "code",
      "execution_count": null,
      "metadata": {
        "id": "KZEdQfa3F3OF",
        "colab": {
          "base_uri": "https://localhost:8080/"
        },
        "outputId": "79366946-f2c7-4337-8c50-9ebfca0e1305"
      },
      "outputs": [
        {
          "output_type": "execute_result",
          "data": {
            "text/plain": [
              "[Row(text=\"If you decide to eat here, just be aware it is going to take about 2 hours from beginning to end. We have tried it multiple times, because I want to like it! I have been to it's other locations in NJ and never had a bad experience. \\n\\nThe food is good, but it takes a very long time to come out. The waitstaff is very young, but usually pleasant. We have just had too many experiences where we spent way too long waiting. We usually opt for another diner or restaurant on the weekends, in order to be done quicker.\", stars=0, label=0.0, words=['if', 'you', 'decide', 'to', 'eat', 'here,', 'just', 'be', 'aware', 'it', 'is', 'going', 'to', 'take', 'about', '2', 'hours', 'from', 'beginning', 'to', 'end.', 'we', 'have', 'tried', 'it', 'multiple', 'times,', 'because', 'i', 'want', 'to', 'like', 'it!', 'i', 'have', 'been', 'to', \"it's\", 'other', 'locations', 'in', 'nj', 'and', 'never', 'had', 'a', 'bad', 'experience.', '', '', 'the', 'food', 'is', 'good,', 'but', 'it', 'takes', 'a', 'very', 'long', 'time', 'to', 'come', 'out.', 'the', 'waitstaff', 'is', 'very', 'young,', 'but', 'usually', 'pleasant.', 'we', 'have', 'just', 'had', 'too', 'many', 'experiences', 'where', 'we', 'spent', 'way', 'too', 'long', 'waiting.', 'we', 'usually', 'opt', 'for', 'another', 'diner', 'or', 'restaurant', 'on', 'the', 'weekends,', 'in', 'order', 'to', 'be', 'done', 'quicker.'], filtered=['decide', 'eat', 'here,', 'aware', 'going', 'take', '2', 'hours', 'beginning', 'end.', 'tried', 'multiple', 'times,', 'want', 'like', 'it!', 'locations', 'nj', 'never', 'bad', 'experience.', '', '', 'food', 'good,', 'takes', 'long', 'time', 'come', 'out.', 'waitstaff', 'young,', 'usually', 'pleasant.', 'many', 'experiences', 'spent', 'way', 'long', 'waiting.', 'usually', 'opt', 'another', 'diner', 'restaurant', 'weekends,', 'order', 'done', 'quicker.'])]"
            ]
          },
          "metadata": {},
          "execution_count": 21
        }
      ],
      "source": [
        "df_reviews.take(1)"
      ]
    },
    {
      "cell_type": "code",
      "execution_count": null,
      "metadata": {
        "id": "S-C9hxziGOMU",
        "colab": {
          "base_uri": "https://localhost:8080/"
        },
        "outputId": "e8b56fae-5470-44eb-f807-a9143a43b7c0"
      },
      "outputs": [
        {
          "output_type": "execute_result",
          "data": {
            "text/plain": [
              "['if',\n",
              " 'you',\n",
              " 'decide',\n",
              " 'to',\n",
              " 'eat',\n",
              " 'here,',\n",
              " 'just',\n",
              " 'be',\n",
              " 'aware',\n",
              " 'it',\n",
              " 'is',\n",
              " 'going',\n",
              " 'to',\n",
              " 'take',\n",
              " 'about',\n",
              " '2',\n",
              " 'hours',\n",
              " 'from',\n",
              " 'beginning',\n",
              " 'to',\n",
              " 'end.',\n",
              " 'we',\n",
              " 'have',\n",
              " 'tried',\n",
              " 'it',\n",
              " 'multiple',\n",
              " 'times,',\n",
              " 'because',\n",
              " 'i',\n",
              " 'want',\n",
              " 'to',\n",
              " 'like',\n",
              " 'it!',\n",
              " 'i',\n",
              " 'have',\n",
              " 'been',\n",
              " 'to',\n",
              " \"it's\",\n",
              " 'other',\n",
              " 'locations',\n",
              " 'in',\n",
              " 'nj',\n",
              " 'and',\n",
              " 'never',\n",
              " 'had',\n",
              " 'a',\n",
              " 'bad',\n",
              " 'experience.',\n",
              " '',\n",
              " '',\n",
              " 'the',\n",
              " 'food',\n",
              " 'is',\n",
              " 'good,',\n",
              " 'but',\n",
              " 'it',\n",
              " 'takes',\n",
              " 'a',\n",
              " 'very',\n",
              " 'long',\n",
              " 'time',\n",
              " 'to',\n",
              " 'come',\n",
              " 'out.',\n",
              " 'the',\n",
              " 'waitstaff',\n",
              " 'is',\n",
              " 'very',\n",
              " 'young,',\n",
              " 'but',\n",
              " 'usually',\n",
              " 'pleasant.',\n",
              " 'we',\n",
              " 'have',\n",
              " 'just',\n",
              " 'had',\n",
              " 'too',\n",
              " 'many',\n",
              " 'experiences',\n",
              " 'where',\n",
              " 'we',\n",
              " 'spent',\n",
              " 'way',\n",
              " 'too',\n",
              " 'long',\n",
              " 'waiting.',\n",
              " 'we',\n",
              " 'usually',\n",
              " 'opt',\n",
              " 'for',\n",
              " 'another',\n",
              " 'diner',\n",
              " 'or',\n",
              " 'restaurant',\n",
              " 'on',\n",
              " 'the',\n",
              " 'weekends,',\n",
              " 'in',\n",
              " 'order',\n",
              " 'to',\n",
              " 'be',\n",
              " 'done',\n",
              " 'quicker.']"
            ]
          },
          "metadata": {},
          "execution_count": 22
        }
      ],
      "source": [
        "df_reviews.take(1)[0]['words']\n"
      ]
    },
    {
      "cell_type": "code",
      "execution_count": null,
      "metadata": {
        "id": "OJ44kA60GXvt",
        "colab": {
          "base_uri": "https://localhost:8080/"
        },
        "outputId": "d88de322-0d23-454f-d3ed-513a785f33ea"
      },
      "outputs": [
        {
          "output_type": "execute_result",
          "data": {
            "text/plain": [
              "['decide',\n",
              " 'eat',\n",
              " 'here,',\n",
              " 'aware',\n",
              " 'going',\n",
              " 'take',\n",
              " '2',\n",
              " 'hours',\n",
              " 'beginning',\n",
              " 'end.',\n",
              " 'tried',\n",
              " 'multiple',\n",
              " 'times,',\n",
              " 'want',\n",
              " 'like',\n",
              " 'it!',\n",
              " 'locations',\n",
              " 'nj',\n",
              " 'never',\n",
              " 'bad',\n",
              " 'experience.',\n",
              " '',\n",
              " '',\n",
              " 'food',\n",
              " 'good,',\n",
              " 'takes',\n",
              " 'long',\n",
              " 'time',\n",
              " 'come',\n",
              " 'out.',\n",
              " 'waitstaff',\n",
              " 'young,',\n",
              " 'usually',\n",
              " 'pleasant.',\n",
              " 'many',\n",
              " 'experiences',\n",
              " 'spent',\n",
              " 'way',\n",
              " 'long',\n",
              " 'waiting.',\n",
              " 'usually',\n",
              " 'opt',\n",
              " 'another',\n",
              " 'diner',\n",
              " 'restaurant',\n",
              " 'weekends,',\n",
              " 'order',\n",
              " 'done',\n",
              " 'quicker.']"
            ]
          },
          "metadata": {},
          "execution_count": 23
        }
      ],
      "source": [
        "df_reviews.take(1)[0]['filtered']"
      ]
    },
    {
      "cell_type": "markdown",
      "metadata": {
        "id": "oeVFSCDeG5GV"
      },
      "source": [
        "<h2>BoW</h2>\n",
        "O BoW (Bag of Words) é uma técnica de extração de características que cria uma representação vetorial de um documento com base nas palavras presentes nele, sem considerar a ordem das palavras. Isso é feito criando um vetor com a contagem de cada palavra no vocabulário."
      ]
    },
    {
      "cell_type": "code",
      "execution_count": null,
      "metadata": {
        "id": "nYN7YQryHkk0"
      },
      "outputs": [],
      "source": [
        "## Instanciando HashingTF para converter os tokens em vetores de contagem (Bag of Words)\n",
        "from pyspark.ml.feature import HashingTF\n",
        "\n",
        "hashingTF = HashingTF(inputCol=\"filtered\", outputCol=\"rawFeatures\", numFeatures=10)\n",
        "df_reviews = hashingTF.transform(df_reviews)"
      ]
    },
    {
      "cell_type": "code",
      "execution_count": null,
      "metadata": {
        "id": "ZKURLvskU10y",
        "colab": {
          "base_uri": "https://localhost:8080/"
        },
        "outputId": "c6846a16-d06c-4a23-a18c-5fab9bc29fb3"
      },
      "outputs": [
        {
          "output_type": "execute_result",
          "data": {
            "text/plain": [
              "[Row(text=\"If you decide to eat here, just be aware it is going to take about 2 hours from beginning to end. We have tried it multiple times, because I want to like it! I have been to it's other locations in NJ and never had a bad experience. \\n\\nThe food is good, but it takes a very long time to come out. The waitstaff is very young, but usually pleasant. We have just had too many experiences where we spent way too long waiting. We usually opt for another diner or restaurant on the weekends, in order to be done quicker.\", stars=0, label=0.0, words=['if', 'you', 'decide', 'to', 'eat', 'here,', 'just', 'be', 'aware', 'it', 'is', 'going', 'to', 'take', 'about', '2', 'hours', 'from', 'beginning', 'to', 'end.', 'we', 'have', 'tried', 'it', 'multiple', 'times,', 'because', 'i', 'want', 'to', 'like', 'it!', 'i', 'have', 'been', 'to', \"it's\", 'other', 'locations', 'in', 'nj', 'and', 'never', 'had', 'a', 'bad', 'experience.', '', '', 'the', 'food', 'is', 'good,', 'but', 'it', 'takes', 'a', 'very', 'long', 'time', 'to', 'come', 'out.', 'the', 'waitstaff', 'is', 'very', 'young,', 'but', 'usually', 'pleasant.', 'we', 'have', 'just', 'had', 'too', 'many', 'experiences', 'where', 'we', 'spent', 'way', 'too', 'long', 'waiting.', 'we', 'usually', 'opt', 'for', 'another', 'diner', 'or', 'restaurant', 'on', 'the', 'weekends,', 'in', 'order', 'to', 'be', 'done', 'quicker.'], filtered=['decide', 'eat', 'here,', 'aware', 'going', 'take', '2', 'hours', 'beginning', 'end.', 'tried', 'multiple', 'times,', 'want', 'like', 'it!', 'locations', 'nj', 'never', 'bad', 'experience.', '', '', 'food', 'good,', 'takes', 'long', 'time', 'come', 'out.', 'waitstaff', 'young,', 'usually', 'pleasant.', 'many', 'experiences', 'spent', 'way', 'long', 'waiting.', 'usually', 'opt', 'another', 'diner', 'restaurant', 'weekends,', 'order', 'done', 'quicker.'], rawFeatures=SparseVector(10, {0: 5.0, 1: 5.0, 2: 8.0, 3: 2.0, 4: 8.0, 5: 3.0, 6: 7.0, 7: 4.0, 8: 3.0, 9: 4.0}))]"
            ]
          },
          "metadata": {},
          "execution_count": 25
        }
      ],
      "source": [
        "df_reviews.take(1)"
      ]
    },
    {
      "cell_type": "code",
      "execution_count": null,
      "metadata": {
        "id": "Tu-jyXw_VGxK",
        "colab": {
          "base_uri": "https://localhost:8080/"
        },
        "outputId": "b5fb6bb6-34e0-4bc9-b4ca-1111147dcd7b"
      },
      "outputs": [
        {
          "output_type": "stream",
          "name": "stdout",
          "text": [
            "Texto original:\n",
            "if you decide to eat here, just be aware it is going to take about 2 hours from beginning to end. we have tried it multiple times, because i want to like it! i have been to it's other locations in nj and never had a bad experience.   the food is good, but it takes a very long time to come out. the waitstaff is very young, but usually pleasant. we have just had too many experiences where we spent way too long waiting. we usually opt for another diner or restaurant on the weekends, in order to be done quicker.\n",
            "\n",
            "Texto sem stopwords:\n",
            "decide eat here, aware going take 2 hours beginning end. tried multiple times, want like it! locations nj never bad experience.   food good, takes long time come out. waitstaff young, usually pleasant. many experiences spent way long waiting. usually opt another diner restaurant weekends, order done quicker.\n",
            "\n",
            "Vetor de tokens: (no of features: [features])\n",
            "(10,[0,1,2,3,4,5,6,7,8,9],[5.0,5.0,8.0,2.0,8.0,3.0,7.0,4.0,3.0,4.0])\n"
          ]
        }
      ],
      "source": [
        "print(\"Texto original:\")\n",
        "print(\" \".join(df_reviews.take(1)[0]['words']))\n",
        "print(\"\")\n",
        "print(\"Texto sem stopwords:\")\n",
        "print(\" \".join(df_reviews.take(1)[0]['filtered']))\n",
        "print(\"\")\n",
        "print(\"Vetor de tokens: (no of features: [features])\")\n",
        "print(str(df_reviews.take(1)[0]['rawFeatures']))\n"
      ]
    },
    {
      "cell_type": "code",
      "execution_count": null,
      "metadata": {
        "id": "2sui76NvK8rg"
      },
      "outputs": [],
      "source": [
        "from pyspark.ml.feature import Tokenizer, StopWordsRemover, StringIndexer, HashingTF\n",
        "\n",
        "df_reviews = df.select('text', 'stars')\n",
        "df_reviews = df_reviews.withColumn(\n",
        "    \"stars\",\n",
        "    when(df_reviews[\"stars\"] == 5, 1).otherwise(0)\n",
        ")\n",
        "\n",
        "# Pegando uma amostra aleatória de n linhas para teste (substitua n pelo valor desejado)\n",
        "df_reviews = df_reviews.sample(withReplacement=False, fraction=0.1)  # Exemplo: 10% dos dados\n",
        "# Converter a coluna \"stars\" em uma coluna numérica \"label\" para a classificação\n",
        "\n",
        "\n",
        "indexer = StringIndexer(inputCol=\"stars\", outputCol=\"label\")\n",
        "\n",
        "df_reviews = indexer.fit(df_reviews).transform(df_reviews)\n",
        "\n",
        "# Tokenização\n",
        "tokenizer = Tokenizer(inputCol=\"text\", outputCol=\"words\")\n",
        "\n",
        "# Remoção de Stopwords\n",
        "remover = StopWordsRemover(inputCol=\"words\", outputCol=\"filtered\")\n",
        "\n",
        "# Vetorização Bag of Words\n",
        "hashingTF = HashingTF(inputCol=\"filtered\", outputCol=\"rawFeatures\", numFeatures=50)\n",
        "\n"
      ]
    },
    {
      "cell_type": "code",
      "execution_count": null,
      "metadata": {
        "id": "hPVS1SXHWz5Q",
        "colab": {
          "base_uri": "https://localhost:8080/"
        },
        "outputId": "42702288-5d19-426f-8139-66dbc892e845"
      },
      "outputs": [
        {
          "output_type": "stream",
          "name": "stdout",
          "text": [
            "+-----+------------------------------------------------------------------------------------------------------------------------------------------------------------------------------------------------------------------------------------------------------------------------------------------------------------------------------------------------------------------------------------------------------------------------------------------------------------------------------------------------------------------------------------------------------------------------------------------------------------------------------------------------------------------------------------------------------------------------------------------------------------------------------------------------------------------------------------------------------------------------------------------------------------------------------------------------------------------------------------------------------------------------------------------------------------------------------------------------------------------------------------------------------------------------------------------------------------------------------------------------------------------------------------------------------------------------------------------------------------------------------------------------------------------------------------------------------------------------------------------------------------------------------------------------------------------------------------------------------------------------------------------------------------------------------------------------------------------------------------------------------------------------------------------------------------------------------------------+--------------------------------------------------------------------------------------------------------------------------------------------------------------------------------------------------------------------------------------------------------------------------------------------------------------------------------------------------------------+\n",
            "|stars|filtered                                                                                                                                                                                                                                                                                                                                                                                                                                                                                                                                                                                                                                                                                                                                                                                                                                                                                                                                                                                                                                                                                                                                                                                                                                                                                                                                                                                                                                                                                                                                                                                                                                                                                                                                                                                                                                  |rawFeatures                                                                                                                                                                                                                                                                                                                                                   |\n",
            "+-----+------------------------------------------------------------------------------------------------------------------------------------------------------------------------------------------------------------------------------------------------------------------------------------------------------------------------------------------------------------------------------------------------------------------------------------------------------------------------------------------------------------------------------------------------------------------------------------------------------------------------------------------------------------------------------------------------------------------------------------------------------------------------------------------------------------------------------------------------------------------------------------------------------------------------------------------------------------------------------------------------------------------------------------------------------------------------------------------------------------------------------------------------------------------------------------------------------------------------------------------------------------------------------------------------------------------------------------------------------------------------------------------------------------------------------------------------------------------------------------------------------------------------------------------------------------------------------------------------------------------------------------------------------------------------------------------------------------------------------------------------------------------------------------------------------------------------------------------+--------------------------------------------------------------------------------------------------------------------------------------------------------------------------------------------------------------------------------------------------------------------------------------------------------------------------------------------------------------+\n",
            "|0    |[love, going, happy, hour, dinner!, , great, patio, fans, beat, stl, heat!, , , also...very, accomodating, location., , like, veal, milanese, mixed, greens, instead, pasta!, , modify, menu, suit, taste!]                                                                                                                                                                                                                                                                                                                                                                                                                                                                                                                                                                                                                                                                                                                                                                                                                                                                                                                                                                                                                                                                                                                                                                                                                                                                                                                                                                                                                                                                                                                                                                                                                               |(50,[0,4,14,18,19,22,23,25,27,30,31,33,35,36,37,38,40,42,43,47],[1.0,1.0,1.0,1.0,3.0,6.0,1.0,1.0,3.0,1.0,1.0,1.0,1.0,1.0,1.0,1.0,2.0,1.0,1.0,1.0])                                                                                                                                                                                                            |\n",
            "|1    |[great, burgers,fries, salad!, , burgers, hint, salt, pepper, flavor., , location, quaint., outdoor, seating, , friendly, staff., , street, parking, well, parking, lot, back.]                                                                                                                                                                                                                                                                                                                                                                                                                                                                                                                                                                                                                                                                                                                                                                                                                                                                                                                                                                                                                                                                                                                                                                                                                                                                                                                                                                                                                                                                                                                                                                                                                                                           |(50,[0,2,3,7,9,10,14,19,22,23,25,34,36,41,42,43,44],[1.0,1.0,1.0,1.0,2.0,3.0,1.0,1.0,4.0,2.0,1.0,1.0,1.0,1.0,1.0,1.0,1.0])                                                                                                                                                                                                                                    |\n",
            "|0    |[reason, give, restaurant, 5, star, rating,, one, single, pretentious, waiter., 4, night, guest, hotel, palomar,, location, restaurant, obvious, plus., first, night, stay,, met, coworker, restaurant, cocktail., arrived,, host, staff, busy, available,, walked, in., restaurant, busy,, looked, small, table, next, bar, proceeded, take, seat., waiter, came, quickly, asked, seat,, sitting, told, cocktails., stumbled, reply,, irritated/in-convinced, tone,, told, \"i, guess, fine\", basically, kept, walking, mid, sentence., guest, brushed, off,, started, conversation, looking, drink, menu., make, long, story, short,, distant, got, \"couldn't, bothered\", vibe, him., came, bill,, asked, split, due, company, transaction, policies,, thought, asked, inconceivable, task., basically, spent, rest, night, elevator, ride, room, shock, rudeness, experienced., , , although, situation, left, bad, taste, mouth,, night, decided, avoid, restaurant,, decided, grab, another, cocktail, give, place, one, try., looking, around, ensuring, \"last, nights, waiter\", shift,, walked, bar, started, looking, menu., instantly,, bartender, greeted, us, pleasant, small, talk, made, us, feel, 100%, welcome., asked, day,, recommended, cocktails, completely, genuine, person., guy, (i, think, name, ben), absolute, star!, gave, us, lessons, whiskey,, described, make, classic, cocktails,, 100%, invested, experience., exactly, bartender, 4/5, star, establishment, -, actually, exceeds, that., kind,, funny,, friendly, completely, redeemed, restaurant/bar, terrible, experience, night, before., , also, ordered, room, service, last, night, restaurant,, amazing., bacon, wrapped, dates, chocolate, cake, die, for!, great, restaurant, amazing, bartender(s)., bad, one, bad, egg, spoiled, experience.]|(50,[0,1,2,3,4,5,6,7,8,9,10,11,12,13,14,15,16,17,18,19,20,21,22,23,24,25,26,27,28,29,30,31,32,33,34,35,36,37,38,39,40,41,42,43,44,45,46,47,48,49],[11.0,2.0,3.0,5.0,2.0,8.0,5.0,3.0,4.0,5.0,7.0,1.0,2.0,6.0,2.0,9.0,3.0,5.0,3.0,6.0,5.0,3.0,14.0,3.0,2.0,3.0,2.0,3.0,5.0,9.0,5.0,3.0,6.0,3.0,3.0,2.0,2.0,3.0,2.0,4.0,3.0,6.0,6.0,2.0,6.0,2.0,8.0,6.0,1.0,4.0])|\n",
            "|0    |[fiance's, birthday, decided, wanted, good,, laid, back, thai, restaurant, dinner., yelp, steered, us, jasmine, rice, direction,, definitely, good, decision., wanted, summer, rolls,, menu,, apparently, available, summer,, settled, pan-fried, dumplings., flavor, good,, think, order, again., got, green, curry, fried, rice, duck, chicken, pad, thai., dishes, great,, duck, stole, show., tastiest, duck, ever, had., pad, thai, bit, sweet, us,, think, try, different, noodle, dish, return., still, good,, especially, chili, sauce, mixed, in., service, good,, people, issues., one, table, rushing, get, show, kimmel, center, waited, quite, meal, (and, going, late)., another, person, got, take-out, missing, one, items, (but, owner, realized, called, walked, dish, house,, nice)., overall,, good, quality, thai!, definitely, go, back.]                                                                                                                                                                                                                                                                                                                                                                                                                                                                                                                                                                                                                                                                                                                                                                                                                                                                                                                                                                           |(50,[0,1,2,3,5,6,8,9,10,11,12,13,14,15,16,17,18,19,20,21,23,24,25,26,27,29,30,31,33,34,35,36,38,39,40,41,42,43,44,45,46,47,48,49],[2.0,3.0,1.0,2.0,3.0,3.0,1.0,2.0,4.0,1.0,1.0,3.0,3.0,3.0,4.0,1.0,4.0,3.0,1.0,1.0,3.0,1.0,2.0,3.0,1.0,1.0,2.0,5.0,2.0,8.0,2.0,2.0,2.0,5.0,1.0,1.0,1.0,2.0,3.0,3.0,2.0,5.0,1.0,5.0])                                          |\n",
            "|1    |[absolutely, love, courtney!, hands, best, hairstylist, ever, had., reason, think, great, knows, look, best, past, year, understood, limits, styles., always, go, salon, tell, cut, hair, thinks, look, best,, always, leave, blown, away, does., know, great, stylist, specify, want, done,, instead, see, needs, done., great, stylist,, great, personality, knowledgeable., highly, recommend, anyone, wants, look, best.]                                                                                                                                                                                                                                                                                                                                                                                                                                                                                                                                                                                                                                                                                                                                                                                                                                                                                                                                                                                                                                                                                                                                                                                                                                                                                                                                                                                                             |(50,[0,1,2,4,6,7,9,10,11,12,13,14,16,20,21,22,25,27,28,29,33,35,37,39,40,42,43,44,46,47,48,49],[7.0,1.0,1.0,1.0,2.0,1.0,2.0,1.0,2.0,1.0,5.0,1.0,2.0,1.0,1.0,1.0,1.0,1.0,1.0,1.0,2.0,1.0,1.0,4.0,2.0,1.0,1.0,3.0,1.0,1.0,1.0,2.0])                                                                                                                             |\n",
            "|0    |[excellent, service!, great, diner, food, breakfast, served, day., came, lunch-, busy, friendly, hospitable., easy, get, 295.]                                                                                                                                                                                                                                                                                                                                                                                                                                                                                                                                                                                                                                                                                                                                                                                                                                                                                                                                                                                                                                                                                                                                                                                                                                                                                                                                                                                                                                                                                                                                                                                                                                                                                                            |(50,[0,3,4,9,10,11,15,20,26,27,30,35,36,42,48],[2.0,1.0,1.0,1.0,1.0,1.0,1.0,1.0,1.0,1.0,1.0,1.0,1.0,1.0,1.0])                                                                                                                                                                                                                                                 |\n",
            "|1    |[kayaking, tour, santa, cruz, island, great., , husband, wonderful, time., , jen,, tour, guide,, helpful, informative., , lot, fun, exploring, caves., , expect, much, tour, definitely, exceeded, expectation.]                                                                                                                                                                                                                                                                                                                                                                                                                                                                                                                                                                                                                                                                                                                                                                                                                                                                                                                                                                                                                                                                                                                                                                                                                                                                                                                                                                                                                                                                                                                                                                                                                          |(50,[0,2,8,16,17,19,22,24,26,31,34,35,36,40,41,43,44,45],[1.0,2.0,1.0,1.0,1.0,1.0,4.0,1.0,2.0,2.0,1.0,1.0,4.0,1.0,2.0,1.0,1.0,1.0])                                                                                                                                                                                                                           |\n",
            "|1    |[man., place, nice., bartender, awesome., try, burger., fresh, local, ingredients., plates, food, saw, come, looked, amazing, well., , , beer, cold., drinks, mixed, perfectly., , chain, restaurant, dedicated, local, place, good, employees.]                                                                                                                                                                                                                                                                                                                                                                                                                                                                                                                                                                                                                                                                                                                                                                                                                                                                                                                                                                                                                                                                                                                                                                                                                                                                                                                                                                                                                                                                                                                                                                                          |(50,[3,8,9,14,15,18,22,24,25,26,28,29,30,33,35,38,39,40,43,44,46,47],[1.0,2.0,1.0,1.0,1.0,1.0,5.0,1.0,1.0,1.0,2.0,1.0,2.0,1.0,1.0,1.0,1.0,3.0,2.0,1.0,1.0,1.0])                                                                                                                                                                                               |\n",
            "|1    |[incredibly, happy, pictures!, angela, clifton, photography, worked, us, 3, times, happy, every, single, picture, taken!, photos, fabulous,, fun, experience., price, extremely, reasonable, pictures, keepsake, cherish, forever!]                                                                                                                                                                                                                                                                                                                                                                                                                                                                                                                                                                                                                                                                                                                                                                                                                                                                                                                                                                                                                                                                                                                                                                                                                                                                                                                                                                                                                                                                                                                                                                                                       |(50,[3,5,6,10,17,18,19,21,22,23,25,27,31,38,39,40,41,45,47,48,49],[1.0,1.0,2.0,1.0,1.0,1.0,1.0,1.0,1.0,1.0,1.0,1.0,2.0,1.0,1.0,1.0,1.0,1.0,4.0,1.0,1.0])                                                                                                                                                                                                      |\n",
            "|0    |[enjoyed, fish, sidewalk, table., , bit, pricey, food, good., , go, side, street, french, quarter, u, want, quieter, dining, outside.]                                                                                                                                                                                                                                                                                                                                                                                                                                                                                                                                                                                                                                                                                                                                                                                                                                                                                                                                                                                                                                                                                                                                                                                                                                                                                                                                                                                                                                                                                                                                                                                                                                                                                                    |(50,[0,1,3,4,7,10,11,12,15,22,26,29,31,33,34,39],[1.0,2.0,1.0,2.0,1.0,1.0,1.0,2.0,1.0,2.0,1.0,1.0,1.0,1.0,1.0,1.0])                                                                                                                                                                                                                                           |\n",
            "|0    |[great, food., terrible, customer, service., three, times, two, different, older, waitresses., pleasant, deal, whatsoever., owner, hand, lovely.]                                                                                                                                                                                                                                                                                                                                                                                                                                                                                                                                                                                                                                                                                                                                                                                                                                                                                                                                                                                                                                                                                                                                                                                                                                                                                                                                                                                                                                                                                                                                                                                                                                                                                         |(50,[0,3,5,10,13,20,21,23,25,28,32,33,35,40],[1.0,1.0,1.0,1.0,2.0,1.0,1.0,2.0,1.0,1.0,1.0,2.0,1.0,1.0])                                                                                                                                                                                                                                                       |\n",
            "|1    |[first, heard, place, plane, ride, franklin, local., , recommended, brave, line, try, one, nashvilles, best, breakfast, spots., , right., , holly, cow, place, kicked, butt, even, wait, line!!, lucky, miss, rush, said, waitress., , , super, savory, corn, pancake, bacon,, salsa,, sour, cream., good., place, always, stop, get, back, south~~~]                                                                                                                                                                                                                                                                                                                                                                                                                                                                                                                                                                                                                                                                                                                                                                                                                                                                                                                                                                                                                                                                                                                                                                                                                                                                                                                                                                                                                                                                                     |(50,[0,1,2,3,6,8,10,11,13,15,16,20,21,22,23,25,26,27,28,29,30,31,32,33,35,38,39,40,43,45,46,48,49],[1.0,1.0,1.0,2.0,2.0,1.0,1.0,2.0,1.0,2.0,1.0,1.0,4.0,5.0,1.0,1.0,1.0,1.0,1.0,1.0,1.0,1.0,1.0,1.0,2.0,1.0,2.0,4.0,1.0,1.0,1.0,2.0,1.0])                                                                                                                     |\n",
            "|1    |[yes!, love, place!, maple, street, patisserie, bomb.com!, never, disappointed., best, blueberry, muffin, ever, whole, entire, life., delicious, breakfast, lunch, spot., also, specialty, cakes, swing, mardi, gras, grab, king, cake., also, owner,, ziggy,, man., always, running, around, working, crazy, hours, make, scrumptious, baked, goods., beat, place, :)]                                                                                                                                                                                                                                                                                                                                                                                                                                                                                                                                                                                                                                                                                                                                                                                                                                                                                                                                                                                                                                                                                                                                                                                                                                                                                                                                                                                                                                                                   |(50,[0,1,2,7,11,12,13,16,18,19,22,24,25,26,27,31,32,33,34,35,37,39,40,42,43,44,45,46,47,48],[2.0,1.0,1.0,1.0,1.0,2.0,2.0,1.0,2.0,1.0,1.0,2.0,3.0,1.0,1.0,1.0,2.0,2.0,1.0,1.0,1.0,2.0,3.0,2.0,1.0,3.0,1.0,1.0,2.0,1.0])                                                                                                                                        |\n",
            "|1    |[best, middle, eastern, restaurant, area!!, food, great, consistent!!, makes, tummy, happy!!!]                                                                                                                                                                                                                                                                                                                                                                                                                                                                                                                                                                                                                                                                                                                                                                                                                                                                                                                                                                                                                                                                                                                                                                                                                                                                                                                                                                                                                                                                                                                                                                                                                                                                                                                                            |(50,[0,3,13,18,24,25,28,29,39],[2.0,2.0,1.0,1.0,1.0,1.0,1.0,1.0,1.0])                                                                                                                                                                                                                                                                                         |\n",
            "|1    |[planet, fitness, gets, four, stars, open, 24, hours., looking, cheapest, cheapest, best, bang, buck, ., much, motivation, since, bodybuilders, go, much, mostly, big, women, ., pun, intended, ., discrimination, used, big,, although, changed, ., , tanning, bed, massage, chairs, sculpt, machine, everything., else, 20.00, month, ., 9.99, -, massage, stuff, bring, friends, ., employees, polite, helpful, .]                                                                                                                                                                                                                                                                                                                                                                                                                                                                                                                                                                                                                                                                                                                                                                                                                                                                                                                                                                                                                                                                                                                                                                                                                                                                                                                                                                                                                     |(50,[1,2,5,6,7,11,13,15,17,18,20,21,22,24,26,28,29,30,31,32,33,34,36,37,38,40,41,42,43,44,46,47,48,49],[1.0,2.0,2.0,1.0,2.0,1.0,1.0,1.0,2.0,1.0,1.0,1.0,2.0,3.0,1.0,7.0,1.0,1.0,1.0,2.0,1.0,1.0,1.0,1.0,2.0,1.0,3.0,2.0,4.0,1.0,1.0,1.0,2.0,2.0])                                                                                                             |\n",
            "|1    |[eat, least, 2, times, week., servers, always, friendly, food, amazing., never, leave, disappointed, &, always, leave, full, stomach]                                                                                                                                                                                                                                                                                                                                                                                                                                                                                                                                                                                                                                                                                                                                                                                                                                                                                                                                                                                                                                                                                                                                                                                                                                                                                                                                                                                                                                                                                                                                                                                                                                                                                                     |(50,[2,3,5,9,11,13,19,26,28,30,31,34,39,42,47],[1.0,1.0,1.0,1.0,2.0,2.0,1.0,1.0,1.0,2.0,1.0,1.0,1.0,1.0,1.0])                                                                                                                                                                                                                                                 |\n",
            "|0    |[got, diverted, tampa, decided, make, drive, orlando, first, needed, somewhere, eat., wanting, avoid, chain, restaurants,, yelp, steered, us, towards, little, local, gem!, , ladies, 7, oz., tampa, strip, gents, 14, oz., ribeye., grill, steaks, oak, citrus, wood, smoky, flavor, die, for!, big, fans, smoker, back, home, cook, steaks, way, well,, rare, find, steak, cooked, woodsmoke, places, worth, side, trip!, , sides, veggies, sweet, potatoes., wines, offer, reasonably, priced-, $20, bottle, decent, selection., mark, 5x, like, places!, , , waitress, lisa, also, made, great, recommendations, service, welcoming,, friendly,, excellent., glad, went, local, instead, chain., bookmarking, place, return, trip, next, time, tampa, sure!]                                                                                                                                                                                                                                                                                                                                                                                                                                                                                                                                                                                                                                                                                                                                                                                                                                                                                                                                                                                                                                                                          |(50,[0,2,3,4,5,6,7,8,10,11,12,13,14,15,17,18,20,21,22,23,24,25,27,28,29,30,31,32,33,34,35,36,37,38,39,40,41,42,44,45,46,47,48],[2.0,3.0,2.0,1.0,1.0,3.0,3.0,3.0,4.0,1.0,1.0,1.0,1.0,5.0,1.0,2.0,4.0,2.0,6.0,2.0,2.0,3.0,2.0,4.0,2.0,2.0,6.0,2.0,1.0,2.0,1.0,1.0,2.0,6.0,2.0,2.0,4.0,1.0,2.0,1.0,1.0,1.0,3.0])                                                 |\n",
            "|1    |[far, best, deli, ever, us., yep,, us., lots, crazy, choices, oh, hard, pick!!, muffalata, big, 4, people, share., tasty, amazing!, go, saturday, thursday, night, live, music!, special, always, good, pick, worry, plenty, sides, choose, from., great, chili,, potato, salad, course, chips., go, now...]                                                                                                                                                                                                                                                                                                                                                                                                                                                                                                                                                                                                                                                                                                                                                                                                                                                                                                                                                                                                                                                                                                                                                                                                                                                                                                                                                                                                                                                                                                                              |(50,[0,1,2,3,5,6,8,11,13,16,18,19,22,24,25,27,28,29,30,32,33,34,36,42,43,44,45,48],[2.0,2.0,1.0,2.0,1.0,1.0,2.0,2.0,2.0,2.0,1.0,1.0,1.0,1.0,3.0,1.0,1.0,4.0,1.0,1.0,1.0,1.0,1.0,1.0,2.0,2.0,2.0,1.0])                                                                                                                                                         |\n",
            "|0    |[wanting, try, trust, bbq, year, now., , stopped, 3, months, ago, waited, line, 10, minutes, service, left., , reading, reviews,, figured, give, chance, see, fuss, about., , food, 50/50, service, horrible, likely, never, return., , gentleman, behind, counter, speak,, smile, engage, us, all,, felt, like, vending, machine., , finally, ordered,, even, listen, order, put, wrong, sides, meals,, correct, serving., , all,, stick, bone, bbq, , pros:, , bbq, sauce, delicious,, macaroni, salad, different, interesting,, \"pulled\", pork, moist., , cons:, , chicken, dry, sheet, paper,, inedible, even, bbq, sauce., , mac, &, cheese, served, pan, probably, steam, table, 2-3, days., , collard, greens, mildly, flavored.]                                                                                                                                                                                                                                                                                                                                                                                                                                                                                                                                                                                                                                                                                                                                                                                                                                                                                                                                                                                                                                                                                                  |(50,[0,1,2,3,4,5,6,7,8,9,10,11,12,13,14,15,17,18,19,21,22,23,24,26,28,29,30,31,32,33,34,35,36,40,42,43,44,46,47,48,49],[2.0,1.0,4.0,4.0,1.0,1.0,3.0,2.0,1.0,1.0,3.0,5.0,2.0,4.0,5.0,1.0,2.0,3.0,3.0,1.0,13.0,3.0,1.0,3.0,3.0,3.0,1.0,2.0,2.0,2.0,2.0,1.0,2.0,2.0,1.0,2.0,1.0,7.0,2.0,1.0,1.0])                                                                |\n",
            "|1    |[blast, event, to., , concerts, basketball, games, lot, fun., , food, really, good,, also., , lot, local, favorites, offered.]                                                                                                                                                                                                                                                                                                                                                                                                                                                                                                                                                                                                                                                                                                                                                                                                                                                                                                                                                                                                                                                                                                                                                                                                                                                                                                                                                                                                                                                                                                                                                                                                                                                                                                            |(50,[3,12,13,16,21,22,23,28,31,34,42,43,44,46],[1.0,1.0,2.0,1.0,1.0,3.0,1.0,2.0,1.0,1.0,1.0,2.0,1.0,1.0])                                                                                                                                                                                                                                                     |\n",
            "+-----+------------------------------------------------------------------------------------------------------------------------------------------------------------------------------------------------------------------------------------------------------------------------------------------------------------------------------------------------------------------------------------------------------------------------------------------------------------------------------------------------------------------------------------------------------------------------------------------------------------------------------------------------------------------------------------------------------------------------------------------------------------------------------------------------------------------------------------------------------------------------------------------------------------------------------------------------------------------------------------------------------------------------------------------------------------------------------------------------------------------------------------------------------------------------------------------------------------------------------------------------------------------------------------------------------------------------------------------------------------------------------------------------------------------------------------------------------------------------------------------------------------------------------------------------------------------------------------------------------------------------------------------------------------------------------------------------------------------------------------------------------------------------------------------------------------------------------------------+--------------------------------------------------------------------------------------------------------------------------------------------------------------------------------------------------------------------------------------------------------------------------------------------------------------------------------------------------------------+\n",
            "only showing top 20 rows\n",
            "\n"
          ]
        }
      ],
      "source": [
        "from pyspark.ml import Pipeline\n",
        "\n",
        "# Definição do pipeline\n",
        "pipeline = Pipeline(stages=[tokenizer, remover, hashingTF])\n",
        "\n",
        "# Aplicação do pipeline\n",
        "model = pipeline.fit(df_reviews)\n",
        "featurizedData = model.transform(df_reviews)\n",
        "\n",
        "# Exibir resultados\n",
        "featurizedData.select(\"stars\", \"filtered\", \"rawFeatures\").show(truncate=False)"
      ]
    },
    {
      "cell_type": "markdown",
      "source": [
        "# Treinamento e teste"
      ],
      "metadata": {
        "id": "Dlw2RIkJSwSB"
      }
    },
    {
      "cell_type": "code",
      "execution_count": null,
      "metadata": {
        "id": "eJy78p4vXWk8"
      },
      "outputs": [],
      "source": [
        "from pyspark.ml.classification import LogisticRegression, GBTClassifier\n",
        "from pyspark.ml.evaluation import BinaryClassificationEvaluator\n",
        "\n",
        "# Dividindo os dados em treino e teste\n",
        "train_data, test_data = featurizedData.randomSplit([0.8, 0.2], seed=1234)"
      ]
    },
    {
      "cell_type": "code",
      "execution_count": null,
      "metadata": {
        "id": "9EXusYAQZnej"
      },
      "outputs": [],
      "source": [
        "# ======= Logistic Regression =======\n",
        "lr = LogisticRegression(featuresCol=\"rawFeatures\", labelCol=\"stars\")\n",
        "lr_model = lr.fit(train_data)\n",
        "lr_predictions = lr_model.transform(test_data)"
      ]
    },
    {
      "cell_type": "code",
      "execution_count": null,
      "metadata": {
        "id": "7LhJ2Q9RZrQ6",
        "colab": {
          "base_uri": "https://localhost:8080/"
        },
        "outputId": "32ca2429-2c21-447c-c9ce-a408b996e789"
      },
      "outputs": [
        {
          "output_type": "stream",
          "name": "stdout",
          "text": [
            "Logistic Regression - Área sob a Curva ROC (AUC): 0.6695963714166853\n"
          ]
        }
      ],
      "source": [
        "# Avaliação LR\n",
        "evaluator = BinaryClassificationEvaluator(labelCol=\"stars\")\n",
        "lr_auc = evaluator.evaluate(lr_predictions)\n",
        "print(f\"Logistic Regression - Área sob a Curva ROC (AUC): {lr_auc}\")"
      ]
    },
    {
      "cell_type": "code",
      "execution_count": null,
      "metadata": {
        "id": "kXFs-YFSZtl7"
      },
      "outputs": [],
      "source": [
        "# ======= Gradient-Boosted Tree Classifier =======\n",
        "gbt = GBTClassifier(featuresCol=\"rawFeatures\", labelCol=\"stars\", maxIter=10)\n",
        "gbt_model = gbt.fit(train_data)\n",
        "gbt_predictions = gbt_model.transform(test_data)"
      ]
    },
    {
      "cell_type": "code",
      "execution_count": null,
      "metadata": {
        "id": "Ch-2QrLkZxLL",
        "colab": {
          "base_uri": "https://localhost:8080/"
        },
        "outputId": "648792e9-6963-4756-8538-575b63ad353f"
      },
      "outputs": [
        {
          "output_type": "stream",
          "name": "stdout",
          "text": [
            "Gradient-Boosted Tree - Área sob a Curva ROC (AUC): 0.6534247102606362\n"
          ]
        }
      ],
      "source": [
        "# Avaliação GBT\n",
        "gbt_auc = evaluator.evaluate(gbt_predictions)\n",
        "print(f\"Gradient-Boosted Tree - Área sob a Curva ROC (AUC): {gbt_auc}\")"
      ]
    },
    {
      "cell_type": "code",
      "execution_count": null,
      "metadata": {
        "id": "qQwk_y6_Z_Ml",
        "colab": {
          "base_uri": "https://localhost:8080/"
        },
        "outputId": "4a6a1d86-f271-4d54-cb10-efe1ca6abe2b"
      },
      "outputs": [
        {
          "output_type": "stream",
          "name": "stdout",
          "text": [
            "\n",
            "Comparação dos Modelos:\n",
            "Logistic Regression AUC: 0.6696\n",
            "Gradient-Boosted Tree AUC: 0.6534\n",
            "⚡ Logistic Regression teve melhor desempenho!\n"
          ]
        }
      ],
      "source": [
        "# ======= Comparação =======\n",
        "print(\"\\nComparação dos Modelos:\")\n",
        "print(f\"Logistic Regression AUC: {lr_auc:.4f}\")\n",
        "print(f\"Gradient-Boosted Tree AUC: {gbt_auc:.4f}\")\n",
        "\n",
        "if lr_auc > gbt_auc:\n",
        "    print(\"⚡ Logistic Regression teve melhor desempenho!\")\n",
        "else:\n",
        "    print(\"🌳 Gradient-Boosted Tree teve melhor desempenho!\")"
      ]
    },
    {
      "cell_type": "markdown",
      "source": [
        "# Modelos pré-treinados"
      ],
      "metadata": {
        "id": "TUZydD8d8CVf"
      }
    },
    {
      "cell_type": "markdown",
      "source": [
        "<h2>Repositório do NILC - Núcleo Interinstitucional de Linguística Computacional</h2>\n",
        "\n",
        "[NILC - USP](http://nilc.icmc.usp.br/embeddings)\n"
      ],
      "metadata": {
        "id": "1QiffBX6ghRB"
      }
    },
    {
      "cell_type": "markdown",
      "source": [
        "<h2>Word2Vec</h2>"
      ],
      "metadata": {
        "id": "nCK_hg08hJVJ"
      }
    },
    {
      "cell_type": "markdown",
      "source": [
        "![picture](data:image/png;base64,iVBORw0KGgoAAAANSUhEUgAAAVEAAACVCAMAAADWpjlmAAAA8FBMVEX//////vr7+/tFufb51tqg1fvveqP0raqxtLKZnZu0uLbl5uXi4+K7vr3b3Nny8/M3tvelzOdMu/ObzvLfy8zf5+k+tPCnq6nr7OvlzNTk1tX69/Ly9/fwc5/gf6Hh0dKSw+C20ePwz9PsqKW/2efT4OhNtOdwtt/oq6Xf2tzWjKrF3K251ZrLzM6dxm70+fDo8d+TwFyCuDzc6s6Tlpqlp6tiZ245QEuEh4zu9eez0pHZ6MmIu0nF3KyozIDN4blzd30gKjd6foNJT1gwN0N7tCyqzYSWwmJna3JVWmLO0M3LjaeNvVLPw8Oow9WhyHR+pHonAAAHR0lEQVR4nO2da3uaSBSAD2QvIg6kV9h1u+1ud7tNBcELiaCo1cRE1q3//9/sDKg1Om3z6LFCPO8HGREmk/eZm8PJBIAgCIIgCIIgCOKg6BXxqh67GMXCvjLFYViSfRi0QR1ej6/c71qkonNli9epVBo3agYquNf29y1TseEumQljG+z2sC3qq1GqjEYXXOcw4EazaxiUhXKXgbgsEP2AGgxHVHdldJj9saReAYyDSvuOn2CXQ5erCy4r5XFmVL2ugHsJqX3ziunpZdNOxW0fs+C5JQjcTscec5H8zZXBK+JVen7MR6VOpqzTgbR30Pknbd61wtTILidksHZwcemOIBDa7ng7ZqIGgnmtpv0oJ0jldYL07XAqcIVZQs7FaMjrYpAZvRRGh+K0eW0ujJan6XXGFMa8d71k2W0aGf0S6vgOSmMGrhB3rS+NpqP/kGtzp4sLx0yktE72zh0foawFYRyA8ZH3n5cjdid0LYyyMWvzkcn+OGp3OmJQD64D/qpOOywY8/o7umSl4fFKnWdcUS95p6mW22mL1hdzIrft6gaYLoeJ704mS78LiI63kn0e0DSVIAiCIAiCIAqF7VqaZpUTejCCg1m2Er1aNQ2mJccuy6OgoiUKKAKoli2qpnuja3bmM3WaWMcuT+FRNf2zUK6UsWOXqOhwg8o9NFpp2gtVq94XCglV0r0wShtVVKlqxy5TsUmSTaOKRc1+H5ixKRRK+rELVWjIKDZkFBsyig0ZxeZgRk3d3sb4RcLrv2T8LaMIiw4HM6qDugVcvJLw4ex8m7MnP27zzMQo2YE5mFF7W6gw+tM2H56ebfOUjG5CRk/GqNdUFim16SHkt8kJGr1ZGoVY+dqFO7IyytOnYVQRRn1eO8MwFO9DJeymddXv8vT++S+NVhOWnI5Rp84TUf9GmGz0533R/KNZVG/6++fPDFE1oWpxsrXnfYya7mrGmGejTj9Lpv3obQQwH0DIu1d/zWhF3w27nKRHJoxaRpouJTtmpuuGZSVm3o02+01YN9oFcBwYiGrb+2zUKu3I4sZUqHXv1G7ZWZabe6PO3Fk32sqM9u8b3Rne6gVGarSapvdo9aq2CqLIr9EbLrWVJteNtmZCNorRbDxiGm/0e/ej6ucv3rk1KmZPXTEnVbxmyH/dRmYUerHnYBoFW6/CaYz1t0qq0G/U53Xeifa50bjGZ1Hz2+4M0ejpzPC/BsaXKDK6JKp15xFCPmR0iV+LWxj5kFFsDmdUvuK8LfQVGX0Ysocitvu7hH/fyfj0bJs3J21UUkX3B6VgB4aehWJDRrEho9iQUWzIKDZkFBsyig0ZxYaMYkNGsSGj2Bxu7em1hP/0yjbGGxl/yDjplRL9BwnPZUt8L16eby3mndNq3hYPNqq+eEnrow+BjJJRJMgoNgeLH8250dDrel6XJ7xWV4SRevwEQvgDHDB+NOdGnUY0688d8JqRM4sB4no9anYxckaOH2Wr3znvRmPoheFtmlZuuNEZZAGPSyQT5wehl5P0uIgfTU+Vkl1zqxiW5ZrFMDqAmRdyjb4zmTQ9iCcArcbaBaXyjljZnYv40fVTu2VnWUlhjIbcaKvZ9X1hNNowujMHix8tiNGoJuIfcY1m4xF6/GgBjIpWH9dVb45cRxcjPHb8aM6N1rrQ97w+QNRrtOYeDPh4708wcqYZPjZkFBsyig0Zxeb4RoGMPgz9uQTpU5HkHxmfnkg4aaMnCxnFhoxiQ0axIaPYkFFsyCg2ZBQbMooNGcWGjGJDRrE53P6jFzJkWxpVpPuP/iqjCH8YmofVPMn2o+dn73/e5u1Jrz3tu+JMRjcho2QUCTKKzVr86CM3qmY75YhNR1sDESrqh11oiZP+IN2A1FdaA8T9nqpJFvf4eI0utseaD2DScGYRQG9Sv3V6PsS3TiS2d5vNJ5Pm/lu6LjwixY+qxiqZP6PzdA/cnuc3RchoKFINEf8kEDs7NmKA+iooV1LQByHqaLVaVZI0Ns9O06XKztmZWqmSW6OxAzddrwmDOaTqeop/C06N64z69To3yuvppLa8WtsVa3FIuXdqt+wsjeXVqF/3o6jVh5rYaZQ3/qXRydwPa9yo2IYwqn0zm2+xiB9NsOJHy8ub82cUek445wa7Iqix11oZFf1rjGo0HY/KvHYhxI9+vjWHRus9iMUQ1ByotR4/LIw2atDqLYxO4r1+gmAVP6ob+YofPYDRQQyhaPF+vVfnc6i+EkYw4MNVvTfp8rF/wo3G+/+5CM3wsSGj2JBRbMgoNsc3+oX4UTK6if6nhOemhBcvJbx7/1bCSRtVZfLkVGX8JgOjYIeGnoViQ0axIaPYkFFsyCg2ZBSb5WoeGcUiSTaNKlYR5tH5Rbc2jdrWsctUcCx7o9Ez99hFKjhG6X4ltbUihBTmGut+T2oZ376F+CrqmlKoWuzY5XkEqFbJ5gcR+WRoybFL8zgQ/4rWMBKmpWoJDPSEMWbQRJQgCIIgiNzxP2OlhmYu9TlmAAAAAElFTkSuQmCC)"
      ],
      "metadata": {
        "id": "JlDoZK4ngzv4"
      }
    },
    {
      "cell_type": "code",
      "source": [
        "!wget -O cbow_s50.zip \"http://143.107.183.175:22980/download.php?file=embeddings/word2vec/cbow_s50.zip\"\n",
        "!unzip cbow_s50.zip"
      ],
      "metadata": {
        "id": "EAx5IUwfc1KQ",
        "colab": {
          "base_uri": "https://localhost:8080/"
        },
        "outputId": "a985868c-b6d7-4ae2-e24e-d0ba845514d0"
      },
      "execution_count": null,
      "outputs": [
        {
          "output_type": "stream",
          "name": "stdout",
          "text": [
            "--2025-06-20 22:55:49--  http://143.107.183.175:22980/download.php?file=embeddings/word2vec/cbow_s50.zip\n",
            "Connecting to 143.107.183.175:22980... connected.\n",
            "HTTP request sent, awaiting response... 200 OK\n",
            "Length: 170360268 (162M) [application/octet-stream]\n",
            "Saving to: ‘cbow_s50.zip’\n",
            "\n",
            "cbow_s50.zip        100%[===================>] 162.47M  11.2MB/s    in 16s     \n",
            "\n",
            "2025-06-20 22:56:06 (10.2 MB/s) - ‘cbow_s50.zip’ saved [170360268/170360268]\n",
            "\n",
            "Archive:  cbow_s50.zip\n",
            "  inflating: cbow_s50.txt            \n"
          ]
        }
      ]
    },
    {
      "cell_type": "code",
      "source": [
        "\n",
        "!pip uninstall numpy gensim -y\n",
        "!pip install --no-cache-dir numpy gensim\n",
        "\n"
      ],
      "metadata": {
        "id": "b5Yvslzs55_M",
        "colab": {
          "base_uri": "https://localhost:8080/",
          "height": 668
        },
        "outputId": "9b876a48-0f58-4a11-dbc5-83f83dd5e4ac"
      },
      "execution_count": null,
      "outputs": [
        {
          "output_type": "stream",
          "name": "stdout",
          "text": [
            "Found existing installation: numpy 2.0.2\n",
            "Uninstalling numpy-2.0.2:\n",
            "  Successfully uninstalled numpy-2.0.2\n",
            "\u001b[33mWARNING: Skipping gensim as it is not installed.\u001b[0m\u001b[33m\n",
            "\u001b[0mCollecting numpy\n",
            "  Downloading numpy-2.3.0-cp311-cp311-manylinux_2_28_x86_64.whl.metadata (62 kB)\n",
            "\u001b[2K     \u001b[90m━━━━━━━━━━━━━━━━━━━━━━━━━━━━━━━━━━━━━━━━\u001b[0m \u001b[32m62.1/62.1 kB\u001b[0m \u001b[31m22.1 MB/s\u001b[0m eta \u001b[36m0:00:00\u001b[0m\n",
            "\u001b[?25hCollecting gensim\n",
            "  Downloading gensim-4.3.3-cp311-cp311-manylinux_2_17_x86_64.manylinux2014_x86_64.whl.metadata (8.1 kB)\n",
            "Collecting numpy\n",
            "  Downloading numpy-1.26.4-cp311-cp311-manylinux_2_17_x86_64.manylinux2014_x86_64.whl.metadata (61 kB)\n",
            "\u001b[2K     \u001b[90m━━━━━━━━━━━━━━━━━━━━━━━━━━━━━━━━━━━━━━━\u001b[0m \u001b[32m61.0/61.0 kB\u001b[0m \u001b[31m131.6 MB/s\u001b[0m eta \u001b[36m0:00:00\u001b[0m\n",
            "\u001b[?25hCollecting scipy<1.14.0,>=1.7.0 (from gensim)\n",
            "  Downloading scipy-1.13.1-cp311-cp311-manylinux_2_17_x86_64.manylinux2014_x86_64.whl.metadata (60 kB)\n",
            "\u001b[2K     \u001b[90m━━━━━━━━━━━━━━━━━━━━━━━━━━━━━━━━━━━━━━━\u001b[0m \u001b[32m60.6/60.6 kB\u001b[0m \u001b[31m229.4 MB/s\u001b[0m eta \u001b[36m0:00:00\u001b[0m\n",
            "\u001b[?25hRequirement already satisfied: smart-open>=1.8.1 in /usr/local/lib/python3.11/dist-packages (from gensim) (7.1.0)\n",
            "Requirement already satisfied: wrapt in /usr/local/lib/python3.11/dist-packages (from smart-open>=1.8.1->gensim) (1.17.2)\n",
            "Downloading gensim-4.3.3-cp311-cp311-manylinux_2_17_x86_64.manylinux2014_x86_64.whl (26.7 MB)\n",
            "\u001b[2K   \u001b[90m━━━━━━━━━━━━━━━━━━━━━━━━━━━━━━━━━━━━━━━━\u001b[0m \u001b[32m26.7/26.7 MB\u001b[0m \u001b[31m52.6 MB/s\u001b[0m eta \u001b[36m0:00:00\u001b[0m\n",
            "\u001b[?25hDownloading numpy-1.26.4-cp311-cp311-manylinux_2_17_x86_64.manylinux2014_x86_64.whl (18.3 MB)\n",
            "\u001b[2K   \u001b[90m━━━━━━━━━━━━━━━━━━━━━━━━━━━━━━━━━━━━━━━━\u001b[0m \u001b[32m18.3/18.3 MB\u001b[0m \u001b[31m178.3 MB/s\u001b[0m eta \u001b[36m0:00:00\u001b[0m\n",
            "\u001b[?25hDownloading scipy-1.13.1-cp311-cp311-manylinux_2_17_x86_64.manylinux2014_x86_64.whl (38.6 MB)\n",
            "\u001b[2K   \u001b[90m━━━━━━━━━━━━━━━━━━━━━━━━━━━━━━━━━━━━━━━━\u001b[0m \u001b[32m38.6/38.6 MB\u001b[0m \u001b[31m186.0 MB/s\u001b[0m eta \u001b[36m0:00:00\u001b[0m\n",
            "\u001b[?25hInstalling collected packages: numpy, scipy, gensim\n",
            "  Attempting uninstall: scipy\n",
            "    Found existing installation: scipy 1.15.3\n",
            "    Uninstalling scipy-1.15.3:\n",
            "      Successfully uninstalled scipy-1.15.3\n",
            "\u001b[31mERROR: pip's dependency resolver does not currently take into account all the packages that are installed. This behaviour is the source of the following dependency conflicts.\n",
            "tsfresh 0.21.0 requires scipy>=1.14.0; python_version >= \"3.10\", but you have scipy 1.13.1 which is incompatible.\n",
            "thinc 8.3.6 requires numpy<3.0.0,>=2.0.0, but you have numpy 1.26.4 which is incompatible.\u001b[0m\u001b[31m\n",
            "\u001b[0mSuccessfully installed gensim-4.3.3 numpy-1.26.4 scipy-1.13.1\n"
          ]
        },
        {
          "output_type": "display_data",
          "data": {
            "application/vnd.colab-display-data+json": {
              "pip_warning": {
                "packages": [
                  "numpy",
                  "scipy"
                ]
              },
              "id": "85c780f25abd4214be59f9b50d794d2d"
            }
          },
          "metadata": {}
        }
      ]
    },
    {
      "cell_type": "code",
      "source": [
        "from pyspark.sql import SparkSession\n",
        "\n",
        "# Criando uma sessão Spark\n",
        "spark = SparkSession.builder \\\n",
        "    .appName(\"Yelp Dataset\") \\\n",
        "    .getOrCreate()\n",
        "df_reviews = spark.read.parquet('reviews')\n"
      ],
      "metadata": {
        "id": "W9LD-cBfvhBF"
      },
      "execution_count": null,
      "outputs": []
    },
    {
      "cell_type": "code",
      "source": [
        "import gensim\n",
        "import numpy as np\n",
        "from pyspark.sql.functions import udf, when\n",
        "from pyspark.sql.types import ArrayType, FloatType\n",
        "from pyspark.ml import Pipeline\n",
        "from pyspark.ml.feature import Tokenizer, StopWordsRemover\n",
        "\n",
        "df_reviews = df_reviews.withColumn(\n",
        "    \"stars\",\n",
        "    when(df_reviews[\"stars\"] == 5, 1).otherwise(0)\n",
        ")\n",
        "\n",
        "# Caminho atualizado para o modelo baixado e descompactado\n",
        "model_path = \"/content/cbow_s50.txt\"  # Ajuste se necessário\n",
        "word_vectors = gensim.models.KeyedVectors.load_word2vec_format(model_path, binary=False)\n",
        "\n",
        "# Função para converter tokens em embeddings\n",
        "def tokens_to_vec(tokens):\n",
        "    vectors = [word_vectors[word] for word in tokens if word in word_vectors]\n",
        "    if not vectors:\n",
        "        return [float(0.0)] * 50  # O modelo cbow_s50 tem dimensão 50\n",
        "    return [float(x) for x in np.mean(vectors, axis=0)]  # Conversão explícita para float\n",
        "\n",
        "# Criar UDF para Spark\n",
        "word2vec_udf = udf(tokens_to_vec, ArrayType(FloatType()))\n",
        "\n",
        "# Amostragem dos dados\n",
        "df_sampled = df_reviews.sample(fraction=0.1, seed=42)  # Seed para reprodutibilidade\n",
        "\n",
        "# Tokenização\n",
        "tokenizer = Tokenizer(inputCol=\"text\", outputCol=\"words\")\n",
        "\n",
        "# Remoção de Stopwords\n",
        "remover = StopWordsRemover(inputCol=\"words\", outputCol=\"filtered\")\n",
        "\n",
        "# Define pipeline (sem word2vec_udf ainda)\n",
        "pipeline = Pipeline(stages=[tokenizer, remover])\n",
        "\n",
        "# Treina o pipeline\n",
        "model = pipeline.fit(df_sampled)\n",
        "featurizedData = model.transform(df_sampled)\n",
        "\n",
        "# Aplica a UDF após o pipeline\n",
        "featurizedData = featurizedData.withColumn(\"word2vec_features\", word2vec_udf(\"filtered\"))\n",
        "\n",
        "# Exibe os resultados\n",
        "featurizedData.select(\"stars\", \"filtered\", \"word2vec_features\").show(truncate=False)\n"
      ],
      "metadata": {
        "id": "ke_3_t8He_ub",
        "colab": {
          "base_uri": "https://localhost:8080/"
        },
        "outputId": "f04a9eff-1746-4e80-81a0-aecb792ba1a5"
      },
      "execution_count": null,
      "outputs": [
        {
          "output_type": "stream",
          "name": "stdout",
          "text": [
            "+-----+-----------------------------------------------------------------------------------------------------------------------------------------------------------------------------------------------------------------------------------------------------------------------------------------------------------------------------------------------------------------------------------------------------------------------------------------------------------------------------------------------------------------------------------------------------------------------------------------------------------------------------------------------------------------------------------------------------------------------------------------------------------------------------------------------------------------------------------------------------------------------------------------------------------------------------------------------------------------------------------------------------------------------------------------------------------------------------------------------------------------------------------------------------------------------------------------------------------------------------------------------------------------------------------------------------------------------------------------------------------------------------------------------------------------------------------------------------------------------------------------------------------------------------------------------------------------------------------------------------------------------------------------------------------------------------------------------------------------------------------------------------------------------------------------------------------------------------------------------------------------------------------------------------------------------------------------------------------------------------------------------------+------------------------------------------------------------------------------------------------------------------------------------------------------------------------------------------------------------------------------------------------------------------------------------------------------------------------------------------------------------------------------------------------------------------------------------------------------------------------------------------------------------------------------------------------------------------------------------------------------------------------------------------------------------+\n",
            "|stars|filtered                                                                                                                                                                                                                                                                                                                                                                                                                                                                                                                                                                                                                                                                                                                                                                                                                                                                                                                                                                                                                                                                                                                                                                                                                                                                                                                                                                                                                                                                                                                                                                                                                                                                                                                                                                                                                                                                                                                                                                                             |word2vec_features                                                                                                                                                                                                                                                                                                                                                                                                                                                                                                                                                                                                                                           |\n",
            "+-----+-----------------------------------------------------------------------------------------------------------------------------------------------------------------------------------------------------------------------------------------------------------------------------------------------------------------------------------------------------------------------------------------------------------------------------------------------------------------------------------------------------------------------------------------------------------------------------------------------------------------------------------------------------------------------------------------------------------------------------------------------------------------------------------------------------------------------------------------------------------------------------------------------------------------------------------------------------------------------------------------------------------------------------------------------------------------------------------------------------------------------------------------------------------------------------------------------------------------------------------------------------------------------------------------------------------------------------------------------------------------------------------------------------------------------------------------------------------------------------------------------------------------------------------------------------------------------------------------------------------------------------------------------------------------------------------------------------------------------------------------------------------------------------------------------------------------------------------------------------------------------------------------------------------------------------------------------------------------------------------------------------+------------------------------------------------------------------------------------------------------------------------------------------------------------------------------------------------------------------------------------------------------------------------------------------------------------------------------------------------------------------------------------------------------------------------------------------------------------------------------------------------------------------------------------------------------------------------------------------------------------------------------------------------------------+\n",
            "|1    |[love, local, hangout., many, bells, whistles, great, whisky, selection, solid, crew, bar, tenders, manning, 24, hours, day, night., dog, pup, friendly., always, got, treat, furry, friend, surprised, pup, gets, served, do.]                                                                                                                                                                                                                                                                                                                                                                                                                                                                                                                                                                                                                                                                                                                                                                                                                                                                                                                                                                                                                                                                                                                                                                                                                                                                                                                                                                                                                                                                                                                                                                                                                                                                                                                                                                      |[0.024885613, -0.07332112, 0.28293225, -0.055598155, 0.24772078, 0.34590608, -0.06217981, 0.27493957, -0.010324731, -0.024762155, -0.17820533, 0.12897024, 0.1107498, 0.045932118, 0.19922453, -0.14861025, -0.0024116125, -0.2832973, -0.29258767, 0.13388525, 0.13311821, 0.1805253, -0.11883424, 0.15963833, 0.11829174, -0.08802727, 0.020088963, 0.26358357, -0.10143912, 0.021444615, -0.087785535, 0.16149929, -0.16012672, -0.10719139, -0.15590861, 0.26620016, -0.110665046, 0.2154184, 0.10898916, -0.049135502, -0.17097384, -0.1969178, -0.11567004, 0.19944848, 0.2012922, 0.04737223, 0.07143176, -0.09061968, -0.25460604, 0.13773713]      |\n",
            "|0    |[world, come, argue, staff, order, get, corn, salsa, burrito, bowl, mexican, restaurant?, repeatedly, told, \"no\", corn, salsa, chicken, bowl, even, offered, pay, it??, manager, finally, agreed, put, bowl, scolding, me,, sure., , crazy, times, folks.]                                                                                                                                                                                                                                                                                                                                                                                                                                                                                                                                                                                                                                                                                                                                                                                                                                                                                                                                                                                                                                                                                                                                                                                                                                                                                                                                                                                                                                                                                                                                                                                                                                                                                                                                           |[0.055396073, -0.11818208, 0.30542827, -0.046263963, 0.20949543, 0.24493356, -0.108693965, 0.16927893, 0.07930617, -0.12957813, -0.13946232, 0.08893722, 0.054806463, -0.036354423, 0.13716093, -0.22755739, 0.0839656, -0.33965394, -0.3348455, 0.08091696, 0.018592214, 0.26025763, -0.020291716, 0.14323388, 0.16612577, -0.1372347, 0.010073786, 0.14984033, -0.05524578, 0.07145953, -0.09699379, 0.19168697, -0.14115293, -0.11980661, -0.2549963, 0.17351516, -0.11958367, 0.14485367, -0.057266325, 0.0063617523, -0.20904565, -0.25003383, -0.17581198, 0.13809656, 0.2121316, 0.09915201, 0.07395465, -0.01574571, -0.25585148, 0.15914512]       |\n",
            "|1    |[march, 2,, 2018...there's, new, kid, town, wow...it's, winner!, , love, indian, food, love, buffets, review, weekday, buffet., $8.99!, , posting, pictures, name, tags, know, like., previous, review, mentioned, lack, lamb...it's, included!, , variety, good., flavors, delicious., must, say, chicken, tikka, masala, wonderful!, best, dal, ever, had...the, dark, thick, one,, soup...although, soup, also., , , huge, nan, fan., nan, made, fresh, perfect...delicately, crispy, still, softly, foldable., mostly, stuffed, remembered, take, pic!, , idea, indian, fare, forget, high, glycemic, white, rice, favor, dipping, nan, bowls, hot, food, deliciousness., also, big, nan, fan, know, want, extra,, consider, telling, waiter, seats, takes, order!, , , royal, india, buffet, really, shows, royalty, dessert, choices., love, indian, desserts, love, buffet., , , item, pictured, included, buffet, fried, cheese, balls, honey, syrup, called, gulab, jamun, (not, really, cheese)., photo, included, got, sent, back, asking, lots, extra, honey, sauce!, gotta, ask, sauce, love., always, hot, steam, table, buffet, served, cold., still, delicious, believe, hot, even, better!, paid, extra, $2.99, 2, little, balls, , review, it., glad, might, stop, dessert, sometime., good., plenty, yummies, buffet, pay, extra, lunch, time., , , gajar, halwa,, carrott, dessert,, , time, favorite, hot, buffet., also, love, kheer,, rice, pudding, tamarind, chutney, stirred, in!, , yes...i, prefer, high, glycemic, non, nutritious, white, rice, laden, sugar, cream!, , big, surprise, mango, ice, creamyes, included, buffet!, , creamy, deliciousness, spoon!, , course,, love, sweet, tamarind, sauce,, add, little, mango, ice, cream...oh, yeah...that's, roll, here!, , service?, , excellent...and, arrived, @, 12:30, prime, lunch, time,, yet, everyone, took, time, helpful., , , back, every, time, need, indian, food!, worth, driving, little, best, town]|[0.016321694, -0.15097259, 0.26001975, -0.05886616, 0.2021571, 0.32316437, -0.09045902, 0.24645267, -0.0011433766, -0.07510045, -0.17729631, 0.120721124, 0.14637333, 0.033527914, 0.13032688, -0.13322541, 0.046281315, -0.30374324, -0.27368996, 0.11246378, 0.13019675, 0.17132711, -0.10039209, 0.1561819, 0.024126558, -0.066456646, 0.01285862, 0.22190315, -0.0225859, 0.047408912, -0.11055174, 0.11879477, -0.17605828, -0.083655864, -0.12913533, 0.24240163, -0.13557309, 0.24905396, 0.044267744, -0.023327086, -0.17439546, -0.15267237, -0.11921806, 0.13539225, 0.20271787, 0.017087854, 0.03591215, -0.0880255, -0.2607287, 0.16993709]     |\n",
            "|1    |[every, time, visit, santa, barbara,, make, sure, stop, dinner, way, home., love, pizza,, consistently, excellent,, service, first, rate., generally, buy, xl, plenty, take, home., really, good., patio, covered, dog, friendly, perfect, us, summer.]                                                                                                                                                                                                                                                                                                                                                                                                                                                                                                                                                                                                                                                                                                                                                                                                                                                                                                                                                                                                                                                                                                                                                                                                                                                                                                                                                                                                                                                                                                                                                                                                                                                                                                                                              |[-0.011561086, -0.17045832, 0.35917106, -0.10390848, 0.21462958, 0.31454894, -0.13367283, 0.26884735, -0.0010995198, -0.07426212, -0.18023121, 0.1444434, 0.088911235, -0.024026114, 0.22188829, -0.17073826, 0.02038924, -0.3284803, -0.32047057, 0.11266324, 0.12317419, 0.110037126, -0.09482832, 0.20448893, 0.076687716, -0.10598354, 0.024710882, 0.22831558, -0.030779563, -0.008061761, -0.100120954, 0.1615454, -0.16014268, -0.08708427, -0.12671968, 0.25119576, -0.16814965, 0.387922, 0.14559588, -0.02537716, -0.21066995, -0.19047087, -0.1941303, 0.16683757, 0.2488445, 0.048721757, -0.007543719, -0.09188532, -0.30096176, 0.13960624]   |\n",
            "|1    |[surprise, 40th, birthday, wife, here., , previously, dined, haddonfield, location, lindenwold, spot,, always, excellent., , , , due, extenuating, circumstances,, \"crunch, time\", try, organize, something, wife's, birthday, (40th),, chef, marcus, came, rescue!, , , dined, multiple, times,, large, party, short, notice,, handled, class., , , place, good, never, empty, seat, never, less, 10-15, people, waiting, outside., , make, reservation, regret, it!]                                                                                                                                                                                                                                                                                                                                                                                                                                                                                                                                                                                                                                                                                                                                                                                                                                                                                                                                                                                                                                                                                                                                                                                                                                                                                                                                                                                                                                                                                                                               |[-0.015367116, -0.13347302, 0.2528019, -0.07473608, 0.23535734, 0.34082475, -0.12990269, 0.2515468, 0.0049787685, -0.11315289, -0.10194592, 0.108571075, 0.18139389, 0.03419646, 0.121324025, -0.13007563, 0.03195223, -0.2682452, -0.24120562, 0.08464245, 0.13112187, 0.095751025, -0.08262455, 0.1753454, 0.050187964, -0.060279272, 0.036014087, 0.2245169, -0.0071407408, 0.07366272, -0.10870364, 0.13118307, -0.21320255, -0.064342655, -0.13500538, 0.25260225, -0.18932864, 0.3269114, 0.09078471, -0.04887926, -0.1708557, -0.16541822, -0.16203094, 0.14361289, 0.17854217, -0.016941855, 0.02041103, -0.027385714, -0.2513823, 0.13923517]      |\n",
            "|0    |[really, impressed, quality, food, service., seated, us, door, around, winter, time,, freezing, seated., hesitated, seating, us, somewhere, else., far, food,, got, food, hour, later.]                                                                                                                                                                                                                                                                                                                                                                                                                                                                                                                                                                                                                                                                                                                                                                                                                                                                                                                                                                                                                                                                                                                                                                                                                                                                                                                                                                                                                                                                                                                                                                                                                                                                                                                                                                                                              |[-0.05712378, -0.19227171, 0.30616966, -0.08958133, 0.16136923, 0.28022555, -0.119844705, 0.22633179, -0.06017789, -0.072168835, -0.08054162, 0.06863772, 0.14015433, 0.021835832, 0.19062184, -0.18012862, -0.0076110577, -0.36788127, -0.2521345, 0.08563717, 0.1689237, 0.19061756, -0.106473394, 0.10891039, 0.052770276, -0.11977062, 0.06302018, 0.25612724, -0.033932284, 0.036992945, -0.115171224, 0.15155023, -0.15646878, -0.107391216, -0.1046619, 0.25095356, -0.15234965, 0.3193924, 0.19873677, 0.018819561, -0.16126558, -0.10299817, -0.17147128, 0.11563872, 0.08806006, -0.0036467214, 0.013860722, -0.03283311, -0.23735377, 0.22460325]|\n",
            "|0    |[91-yr-old, mom, stayed, weekend, june, visiting, family, attending, concert, downtown., overall, reaction, stay, hotel, bit, overpriced, level, comfort, service., mom, difficulty, walking,, room, narrow--not, much, room, beds, dresser., , transport, chair, tight, fit,, walker., also,, curved, desk, dresser, top, , surfaces, may, fashion, statement,, practicality, standpoint,, awful., , lots, stuff, hit, floor., beds, high,, difficult, older, person, get, into., armchair, footstool--that's, amenity, even, appreciate,, want, sit, bed, like, put, feet, up., also--no, nightlight, bathroom., must, anybody, 40., finally,, one, pet, peeves, a/c, blows, bed--this, room, problem., , plus, side,, room, bath, spotlessly, clean,, beds, comfortable,, room, extremely, quiet., although, several, families, happy, boisterous, kids, staying, floor,, hear, door, closed., pocket, door, bathroom, saved, space, never, obstructs, traffic, room., , main, lobby, room, wheelchair, accessible,, even, though, room, labeled, way., staff, friendly, helpful,, especially, housekeeper, floor, (3rd, floor,, june, 3-5),, helped, doors, luggage,, never, knocked, asked, cleaning, room., coffee, bar, good, coffee, good, service., parking, bit, oddly, located,, plentiful, free--a, huge, plus, urban, hotel,, philly, parking, prices, high., internet/wifi, also, free--very, nice!, , , overall,, comfortable, stay,, one, rate, worth, $180/night, instead, $240, paid.]                                                                                                                                                                                                                                                                                                                                                                                                                                                                                             |[0.016135525, -0.15612207, 0.27966455, -0.037542567, 0.21125238, 0.35320058, -0.12755613, 0.21690534, -0.0079578, -0.10169098, -0.1330681, 0.14331174, 0.11039132, 0.010178074, 0.14051427, -0.14747259, 0.036033586, -0.32071364, -0.2825638, 0.122647814, 0.17998014, 0.10728628, -0.10626174, 0.15848, 0.05774637, -0.10152643, 0.0389384, 0.19345829, -0.056299455, 0.022604922, -0.06460374, 0.19340602, -0.14992248, -0.10175982, -0.11129767, 0.22952276, -0.16123877, 0.28212276, 0.0864661, 0.008006157, -0.18366493, -0.1997732, -0.1523189, 0.14436284, 0.19201109, 0.03377382, 0.028158357, -0.09302922, -0.27008262, 0.1369279]                |\n",
            "|0    |[worst, co, world, ,sold, 7000, range, three, years, later, still, work, properly, sent, repairmen, repair, stop, calling, , recommend, thieves, anyone, give, 1, star, post, review, , liars, liars, liars]                                                                                                                                                                                                                                                                                                                                                                                                                                                                                                                                                                                                                                                                                                                                                                                                                                                                                                                                                                                                                                                                                                                                                                                                                                                                                                                                                                                                                                                                                                                                                                                                                                                                                                                                                                                         |[-0.02702388, -0.13577448, 0.30724666, -0.055817544, 0.27045724, 0.4462106, -0.07342108, 0.27487692, -0.11267688, -0.21800208, -0.23657401, 0.14892258, 0.15292309, 0.06655683, 0.18574317, -0.23079944, -0.0183425, -0.3692467, -0.32613847, 0.2583558, 0.18639521, 0.10720268, -0.0640283, 0.13387811, 0.13536033, -0.15505005, 0.035227, 0.304811, -0.13499661, 0.008294791, -0.12671326, 0.2260207, -0.2510179, -0.103113, -0.13992496, 0.3645825, -0.18166603, 0.4222952, 0.07216301, -5.445406E-4, -0.29867312, -0.19533293, -0.27091396, 0.22144641, 0.15526927, 0.092914045, -0.010826043, -0.08326921, -0.26661, 0.085873224]                      |\n",
            "|0    |[going, european, wax, years., always, positive, experience, today., called, 4:28, according, gps, arrive, location, chinden, seven, minutes., , shelby, told, get, 4:30, said, seven, minutes, away, arrived, 4:39, walked, door, shelby, said, sorry, gonna, cancel, appointment, hits, nine, minutes, reschedule., inflexible, care, service, horrible, attitude, soon, let, know, recording, conversation, sudden, attitude, changed, explained, policy, explained, reschedule., years, going, never, time, late, however, several, times, wait, past, nine, minutes, anything, make, it., asked, manager, got, attitude, told, manager, wait, contacted, me., shelby, sits, waiting, appointment, types, types, types, sending, something, manager, worst, experience, go, get, nose, waxed, fuming, shelby's, horrible, attitude., still, paid, full, price, still, got, wax, still, polite, person, wax, gave, tip, however, shelby, needs, go, bye-bye., also, recording, hear, sure, shelby, talk, policy, policy, policy, never, use, never, explain, arrive, right, changes, nine, minutes, completely, ridiculous, get, clue, customer, service, shelby., certainly, want, continue, good, customers, continue, get, paycheck.]                                                                                                                                                                                                                                                                                                                                                                                                                                                                                                                                                                                                                                                                                                                                                          |[-0.059987336, -0.14936437, 0.32041284, -0.10573895, 0.23461287, 0.32984534, -0.11738307, 0.2852009, -0.05631694, -0.12761873, -0.16151987, 0.12087735, 0.17987527, 0.015840711, 0.15710407, -0.18843044, 0.018371962, -0.28843838, -0.28166372, 0.13178262, 0.1035304, 0.11499388, -0.116495125, 0.15560037, 0.0805586, -0.035350602, 0.019761013, 0.2794183, -0.06945106, 0.0550296, -0.13456956, 0.15676151, -0.22502428, -0.10888683, -0.12597218, 0.28927276, -0.21475866, 0.352597, 0.12064943, -0.06014991, -0.20280504, -0.1813915, -0.21446356, 0.1867252, 0.23510966, 0.0470127, 0.013488906, -0.053662863, -0.24233733, 0.15349941]              |\n",
            "|1    |[christiane, gave, absolute, best, customer, service, upon, checking, in!, christmas, day, also, 10p, arrived,, &, greeted, us, treats, &, amazing, energy!, room, clean, &, spacious, necessary, amenities., hotel, located, great, spot, along, water, &, accessible, many, restaurants, along, waterfront., grab, beach, cruisers, explore, too!]                                                                                                                                                                                                                                                                                                                                                                                                                                                                                                                                                                                                                                                                                                                                                                                                                                                                                                                                                                                                                                                                                                                                                                                                                                                                                                                                                                                                                                                                                                                                                                                                                                                 |[0.013178695, -0.17492603, 0.26868284, -0.10264827, 0.13720672, 0.31915203, -0.109651946, 0.22924931, -0.10258364, -0.055962536, -0.06713894, 0.13968222, 0.23027794, -0.06038597, 0.12743834, -0.15988678, 0.033416282, -0.29589188, -0.22541934, 0.08688511, 0.19520083, 0.13006712, -0.13491553, 0.07822312, 0.09748066, -0.07510448, -0.015138861, 0.19801731, -0.039248947, 0.032768056, -0.038945448, 0.20010312, -0.1813308, -0.08221671, -0.080064744, 0.27588606, -0.20595743, 0.26204956, 0.091856584, 0.015043946, -0.17758375, -0.24857767, -0.13325809, 0.16531251, 0.14258927, 0.016754389, -1.88527E-4, -0.08289179, -0.21658628, 0.13276856]|\n",
            "|0    |[pretty, typical, sportsbar, great, big, games., , experience, restaurant-side, pretty, good, well., , huge, tvs, everywhere,, booths, decent-sized, cushions, gives, cozy,, personal, feel., , crab, fries, cheese, amazing,, sweet, potato, fries, sweet, sauce., , usually, get, cheesesteak,, burger,, something, similar., , wait, staff, always, done, good, job, us,, even, busy, nights, football, games., , also, never, waited, minute, two, table, open, up.]                                                                                                                                                                                                                                                                                                                                                                                                                                                                                                                                                                                                                                                                                                                                                                                                                                                                                                                                                                                                                                                                                                                                                                                                                                                                                                                                                                                                                                                                                                                             |[-0.042079415, -0.13306336, 0.2757227, -0.086887114, 0.19278142, 0.3696188, -0.14679483, 0.2896583, -0.025336664, -0.0718162, -0.20989688, 0.14975044, 0.20367633, -0.029893517, 0.18332104, -0.16349417, -0.018936668, -0.33486387, -0.33369464, 0.17169403, 0.17679705, 0.17952281, -0.12440117, 0.21247737, 0.03606615, -0.07496329, 0.07040282, 0.2593319, 0.007815924, 0.019598588, -0.13382043, 0.19048734, -0.248047, -0.047246333, -0.17095828, 0.31733328, -0.17039277, 0.31514174, 0.06446314, -0.026782056, -0.19243966, -0.2410619, -0.116532885, 0.16539703, 0.19414017, 0.047673333, 0.015334921, -0.041954797, -0.25943905, 0.23308285]      |\n",
            "|1    |[husband, town, one, work, projects., say, extremely, hard, find, good, mexican/central, american, food, outside, ca, (where, from), hands, found, here., came, lunch, wednesday, came, back, dinner, thursday., following, dishes, amazing:, mojarra,, mixed, tacos, (meat, great, flavor),, pupusas, (cheese, bean, &, cheese),, caldo, 7, mares., service, far, best, ever, experienced, nashville., waitress, katherine, sweet,, honest,, pleasure, conversation, with., next, time, back, town, make, point, stop, scrumptious, meal.]                                                                                                                                                                                                                                                                                                                                                                                                                                                                                                                                                                                                                                                                                                                                                                                                                                                                                                                                                                                                                                                                                                                                                                                                                                                                                                                                                                                                                                                          |[-0.013052195, -0.1525919, 0.30504262, -0.05855889, 0.20247978, 0.4084957, -0.14096136, 0.23497601, -0.0021388677, -0.104661964, -0.12975457, 0.11063982, 0.14734492, 0.026593864, 0.17355819, -0.16915704, 0.017004458, -0.3776652, -0.28993574, 0.14458083, 0.17006621, 0.17086335, -0.056210767, 0.23210402, 0.0697327, -0.09628026, 0.02441682, 0.25039682, -0.042373825, 0.060188495, -0.102463536, 0.18827936, -0.16877082, -0.10528316, -0.18276857, 0.28582248, -0.108714335, 0.30947894, 0.09579239, -0.0028170224, -0.1923905, -0.17075042, -0.16912125, 0.17074639, 0.19590394, 0.060524732, 0.037379805, -0.06672139, -0.27307567, 0.15170637]  |\n",
            "|1    |[beep, beep, ..., want, car's, horn, go, beep, beep,, engine, go, vroom,, lights, turn, on., , oh,, want, ripped, car, needs, help, going, beep, beep, vroom!, , discovered, pep, boys, location, needed, new, headlight, (wouldn't, know, car, manufacturers, make, almost, impossible, install, simple, little, light, without, ripping, skin, off.)., , , guys, back, friendly,, knowledgeable, helpful!!, wow, trifecta, ..., door, much, quicker, anticipated., , guessed, one, light, goes, burn, back, pep, boys., , type, quality, service, slightly, longer, wait, time,, allowed, watch, listen, guys, interacted, customers., , discovered, charm, million, dollar, smile, caused, guys, friendly,, knowledgeable,, helpful., , way, every, customer., , phone, calls, person, ..., good, news, bad, ..., repair/tire, shop, customer, oriented, even, customers, return, favor., , service, waiting, area, clean, pleasant, other., , careful, park!!!!, appears, obvious, parking, lot, pep, boys, instead, tow, away, zone, next, business, broad, might, come, get, car, worked, find, missing., , thankfully,, real, problems, bring, get, ready, drive, away, today, new, battery, (installed, free), smiling., , wheels, car, going, round, round, ..., horn, going, beep, beep, beep, ..., lights, working!, , best, part, pleasant, conversation, guys., , pep, boys, labor, costs, run, little, high, (no, charge, battery, service,, awesome), guy, able, find, $30+, discounts,, nice, christmas, gift!, , car, already, knows, get, pep, boys, woodbury, despite, great, service, hope, next, stop, maintenance, beep, beep!!]                                                                                                                                                                                                                                                                                                                                               |[-0.012787858, -0.17762499, 0.25844988, -0.06807515, 0.22446658, 0.39245772, -0.08763967, 0.27046224, 0.005196775, -0.087538436, -0.09830293, 0.092746675, 0.10846367, 0.0137234675, 0.1422127, -0.12621218, 0.018405441, -0.3228588, -0.26815832, 0.17559105, 0.1000608, 0.117509596, -0.07154816, 0.159522, 0.07171448, -0.12763894, 0.0013352311, 0.2505944, -0.051948838, 0.034867566, -0.12889566, 0.21642826, -0.21067774, -0.10495001, -0.15023752, 0.24462159, -0.17361593, 0.3105183, 0.12137062, -0.0072947154, -0.2042227, -0.15987921, -0.15706323, 0.18074283, 0.22593316, 0.043885764, 0.021414742, -0.033909075, -0.31161338, 0.17180859]    |\n",
            "|0    |[believe, shop, still, exist., visited, salon, later, 90's, unprofessional, experience, hair, stylists, braid, hair., poor, job, braiding, amount, money, paid., addressed, concern, owner, shop, complaint, never, resolved., recommend, shop, service.]                                                                                                                                                                                                                                                                                                                                                                                                                                                                                                                                                                                                                                                                                                                                                                                                                                                                                                                                                                                                                                                                                                                                                                                                                                                                                                                                                                                                                                                                                                                                                                                                                                                                                                                                            |[0.027712816, -0.18212041, 0.26233461, -0.015040177, 0.23943667, 0.36294106, -0.1431421, 0.24033345, 0.013847635, -0.07150086, -0.23120733, 0.10025837, 0.11179986, 0.07924395, 0.07401328, -0.08760199, 0.0074384096, -0.22738871, -0.2598737, 0.15433349, 0.18861742, 0.16532378, -0.0905059, 0.1489603, 0.08759609, -0.17272761, 0.04509236, 0.25949165, -0.025164636, -0.07555137, -0.07933332, 0.20703064, -0.17598516, -0.15223959, -0.098121874, 0.21940933, -0.17298199, 0.27709454, 0.030575275, -0.030432003, -0.17968845, -0.16442142, -0.16331485, 0.1809036, 0.1805891, 0.0023238636, 0.02152768, -0.0068975897, -0.21871938, 0.15555587]      |\n",
            "|0    |[came, get, new, tire, installed, one, tire, took, 4, people, three, half, hours!!!!, soooooooo, slow, location., save, time, go, somplace, else., lazy, people, working]                                                                                                                                                                                                                                                                                                                                                                                                                                                                                                                                                                                                                                                                                                                                                                                                                                                                                                                                                                                                                                                                                                                                                                                                                                                                                                                                                                                                                                                                                                                                                                                                                                                                                                                                                                                                                            |[-0.14071065, -0.15687394, 0.36119837, -0.07715483, 0.23513307, 0.30921647, -0.056321997, 0.25117835, -0.056800995, -0.15759985, -0.089407004, 0.081084944, 0.11050371, 0.011529892, 0.08273227, -0.17663811, 0.06459855, -0.33180285, -0.3138069, 0.119664274, 0.11907038, 0.15236534, -0.07862833, 0.18904921, 0.145958, -0.14946155, -0.058749836, 0.14462577, -0.0838506, 0.027915, -0.10658755, 0.12736198, -0.15000042, -0.117121845, -0.16842008, 0.27858332, -0.18435547, 0.36656415, 0.1015814, -0.10921695, -0.28421465, -0.16140145, -0.15108572, 0.1796844, 0.17210634, 0.052561436, 0.062374216, 0.023416946, -0.35062492, 0.08318016]         |\n",
            "|0    |[host, super, sweet, knowledgeable., gluten, allergy, well-versed, necessary, precautions, taken, accommodate, gluten-free, meal!, , ordered, pad, see, ew, chicken, delicious!, , also, got, red, curry, subbed, chicken, beef, delicious., , water, promptly, refilled, indoor, dining, provides, nice, view, husting, bustling, going, outside.]                                                                                                                                                                                                                                                                                                                                                                                                                                                                                                                                                                                                                                                                                                                                                                                                                                                                                                                                                                                                                                                                                                                                                                                                                                                                                                                                                                                                                                                                                                                                                                                                                                                  |[0.022026464, -0.12282883, 0.21647856, -0.046248145, 0.21888162, 0.30156246, -0.10584153, 0.2118599, -0.062023975, -0.010491143, -0.092730045, 0.09522561, 0.08975996, 0.029168567, 0.15931101, -0.09507136, 0.049556892, -0.27708814, -0.2715083, 0.092173256, 0.12664178, 0.1295696, -0.08928422, 0.09778894, 0.08243853, -0.04843211, -0.0042902497, 0.21833828, -0.08277782, 0.068857215, -0.050688464, 0.14072004, -0.13574933, -0.010820322, -0.101263605, 0.21433948, -0.14937475, 0.2719224, 0.10130904, -0.06791906, -0.17759918, -0.10422132, -0.09422656, 0.14054742, 0.18777773, 0.045185454, -0.01336807, -0.10546953, -0.24004482, 0.16555275]|\n",
            "|1    |[frequent, visitor, here., , work, camden, found, better, pizza,, salad, wings, area., , highly, recommend, stopping, trying, stromboli., , , pete,, owner, make, feel, comfortable, well, charlotte, wit., give, atry., , sorry!!!]                                                                                                                                                                                                                                                                                                                                                                                                                                                                                                                                                                                                                                                                                                                                                                                                                                                                                                                                                                                                                                                                                                                                                                                                                                                                                                                                                                                                                                                                                                                                                                                                                                                                                                                                                                 |[-0.08789321, -0.15259443, 0.2893044, -0.15222411, 0.2738118, 0.30842182, -0.10803821, 0.3083659, 0.079217784, -0.13196534, -0.11734194, 0.118025206, 0.18155153, -0.011559368, 0.19615716, -0.1572802, 0.03278505, -0.2751769, -0.22524731, 0.11984222, 0.1258819, 0.17295511, -0.06873479, 0.114320315, 0.063519895, -0.024652002, 0.051925946, 0.3103918, -0.056659102, 0.10462368, -0.1687928, 0.11448899, -0.25203347, -0.11557942, -0.1682678, 0.20280395, -0.19491778, 0.35462216, 0.13294232, -0.10697474, -0.16181774, -0.23266089, -0.25740007, 0.15371709, 0.28395027, 0.0516, 0.058780726, -0.06443963, -0.26420537, 0.17225993]                |\n",
            "|0    |[honestly, surprised., know, westin, well-known, chain,, outside, building, seems, brown, unwelcoming., enter,, awesome, lobby, area, clean, spacious., staff, helpful/friendly., tried, appetizers, lobby, bar., favourite, smoked, salmon, capers/veggie, boursin, toasted, bread, awesome., , actually, conference., great., staff, accommodating, welcoming!, definitely, expecting!]                                                                                                                                                                                                                                                                                                                                                                                                                                                                                                                                                                                                                                                                                                                                                                                                                                                                                                                                                                                                                                                                                                                                                                                                                                                                                                                                                                                                                                                                                                                                                                                                            |[0.01854448, -0.13340245, 0.21944436, 0.048059326, 0.13753411, 0.2697924, -0.08582768, 0.14576153, -0.030082276, -0.070871204, -0.1127318, 0.16129269, 0.09197033, -0.03614352, 0.12757918, -0.06909511, 0.04711956, -0.23253727, -0.22552134, 0.065885276, 0.084270485, 0.24851692, -0.08729063, 0.1783613, 0.03329728, -0.04951004, 0.02210772, 0.16404594, -0.015950756, 0.033925116, -0.060799554, 0.07118795, -0.06344148, -0.041788477, -0.14776653, 0.2026555, -0.11443268, 0.13627729, 0.049205434, 0.07020017, -0.2164868, -0.15772447, -0.14417125, 0.13656284, 0.16626842, 0.08585694, -0.0085461605, 0.023774438, -0.21607228, 0.0418884]       |\n",
            "|0    |[eat, vietnamese, least, 3-4, times, week, happy, find, place,, close, new, job., went, evening, (wed, 2/10), 8:40pm;, closing, hours, posted, 9:00pm, large, neon, sign, said, 'open'., , young, lady, greeted, asked, pick, order., asked, seated,, informed, kitchen, closed, 8:45,, even, though, 8:40, order, 'to, go', seated., , , , hours, changed, 8:45pm,, time, close., , obvious, want, bothered., , , , loved, try, food,, return, choose, somewhere, else, vietnamese., suggestions, area?]                                                                                                                                                                                                                                                                                                                                                                                                                                                                                                                                                                                                                                                                                                                                                                                                                                                                                                                                                                                                                                                                                                                                                                                                                                                                                                                                                                                                                                                                                            |[-0.04035236, -0.1639777, 0.32279158, -0.09587037, 0.27463663, 0.36729425, -0.09811833, 0.34306392, -0.08591733, -0.14068995, -0.11747565, 0.12490743, 0.17211397, 0.023342073, 0.1799001, -0.2053862, 0.06136435, -0.25293863, -0.17927091, 0.13814585, 0.11303543, 0.1414372, -0.101803556, 0.1658002, 0.10248755, -0.04988462, -0.011081608, 0.24599959, -0.07407266, 0.010762169, -0.17136608, 0.16727747, -0.17622423, -0.1691105, -0.17015873, 0.30924216, -0.22152154, 0.35796076, 0.17106731, -0.07164778, -0.2216677, -0.19069313, -0.22816637, 0.2128124, 0.29527485, 0.032454796, 0.044629294, -0.03947132, -0.29131383, 0.086965404]            |\n",
            "|0    |[went, breakfast, classic, diner, two, young, children, felt, food, overpriced, compared, local, restaurants, (double, pay, elsewhere, quality, meal),, service, poor., additionally,, feel, family, friendly., running, back, regular, spot., , also,, covid, perspective,, want, add, pretty, cramped, even, outside., feel, like, adequate, spacing, tables.]                                                                                                                                                                                                                                                                                                                                                                                                                                                                                                                                                                                                                                                                                                                                                                                                                                                                                                                                                                                                                                                                                                                                                                                                                                                                                                                                                                                                                                                                                                                                                                                                                                     |[-0.051907647, -0.17465438, 0.3470064, -0.10245725, 0.25571498, 0.34755465, -0.11775267, 0.25289086, 0.013123001, -0.13985585, -0.1982529, 0.144835, 0.14781484, 0.06720475, 0.19693412, -0.21808521, 0.018442245, -0.33804917, -0.2922874, 0.1647694, 0.14046977, 0.17225143, -0.09609967, 0.16134247, 0.07888614, -0.05694175, 0.067378, 0.22586536, -0.080591895, 0.06348314, -0.15852323, 0.21469514, -0.21376982, -0.14412415, -0.15052208, 0.25128326, -0.23333916, 0.33214518, 0.13352484, -0.047840394, -0.22952089, -0.19856913, -0.17254339, 0.17419209, 0.2784224, 0.04797286, 0.027684923, -0.0791965, -0.24787302, 0.14286627]                 |\n",
            "+-----+-----------------------------------------------------------------------------------------------------------------------------------------------------------------------------------------------------------------------------------------------------------------------------------------------------------------------------------------------------------------------------------------------------------------------------------------------------------------------------------------------------------------------------------------------------------------------------------------------------------------------------------------------------------------------------------------------------------------------------------------------------------------------------------------------------------------------------------------------------------------------------------------------------------------------------------------------------------------------------------------------------------------------------------------------------------------------------------------------------------------------------------------------------------------------------------------------------------------------------------------------------------------------------------------------------------------------------------------------------------------------------------------------------------------------------------------------------------------------------------------------------------------------------------------------------------------------------------------------------------------------------------------------------------------------------------------------------------------------------------------------------------------------------------------------------------------------------------------------------------------------------------------------------------------------------------------------------------------------------------------------------+------------------------------------------------------------------------------------------------------------------------------------------------------------------------------------------------------------------------------------------------------------------------------------------------------------------------------------------------------------------------------------------------------------------------------------------------------------------------------------------------------------------------------------------------------------------------------------------------------------------------------------------------------------+\n",
            "only showing top 20 rows\n",
            "\n"
          ]
        }
      ]
    },
    {
      "cell_type": "code",
      "source": [
        "featurizedData.count()"
      ],
      "metadata": {
        "id": "FPnGu0sMgFJK",
        "colab": {
          "base_uri": "https://localhost:8080/"
        },
        "outputId": "34f8103b-fd51-4d1e-ae85-bd3ee66bf9ba"
      },
      "execution_count": null,
      "outputs": [
        {
          "output_type": "execute_result",
          "data": {
            "text/plain": [
              "699649"
            ]
          },
          "metadata": {},
          "execution_count": 3
        }
      ]
    },
    {
      "cell_type": "code",
      "source": [
        "from pyspark.ml.linalg import Vectors, VectorUDT\n",
        "from pyspark.sql.functions import col, udf\n",
        "from pyspark.sql.types import ArrayType, DoubleType\n",
        "\n",
        "# Converter `word2vec_features` para array de double\n",
        "featurizedData = featurizedData.withColumn(\n",
        "    \"word2vec_features\", col(\"word2vec_features\").cast(ArrayType(DoubleType()))\n",
        ")\n",
        "\n",
        "# Define uma UDF para converter array -> DenseVector\n",
        "array_to_vector_udf = udf(lambda arr: Vectors.dense(arr), VectorUDT())\n",
        "\n",
        "\n",
        "featurizedData = featurizedData.withColumn(\"word2vec_vector\", array_to_vector_udf(col(\"word2vec_features\")))\n",
        "\n"
      ],
      "metadata": {
        "id": "Je6ipjcchvaX"
      },
      "execution_count": null,
      "outputs": []
    },
    {
      "cell_type": "code",
      "execution_count": null,
      "metadata": {
        "id": "RQvvmOkR8hRA"
      },
      "outputs": [],
      "source": [
        "from pyspark.ml.classification import LogisticRegression, GBTClassifier\n",
        "from pyspark.ml.evaluation import BinaryClassificationEvaluator\n",
        "\n",
        "# Dividindo os dados em treino e teste\n",
        "train_data, test_data = featurizedData.randomSplit([0.8, 0.2], seed=1234)"
      ]
    },
    {
      "cell_type": "code",
      "execution_count": null,
      "metadata": {
        "id": "7QjNCWhb8hRB"
      },
      "outputs": [],
      "source": [
        "# ======= Logistic Regression =======\n",
        "lr = LogisticRegression(featuresCol=\"word2vec_vector\", labelCol=\"stars\")\n",
        "lr_model = lr.fit(train_data)\n",
        "lr_predictions = lr_model.transform(test_data)"
      ]
    },
    {
      "cell_type": "code",
      "execution_count": null,
      "metadata": {
        "id": "SolB15ER8hRB",
        "colab": {
          "base_uri": "https://localhost:8080/"
        },
        "outputId": "975aac2b-a30f-4886-d9d6-beaf2a05f9b6"
      },
      "outputs": [
        {
          "output_type": "stream",
          "name": "stdout",
          "text": [
            "Logistic Regression - Área sob a Curva ROC (AUC): 0.6791121419571501\n"
          ]
        }
      ],
      "source": [
        "# Avaliação LR\n",
        "evaluator = BinaryClassificationEvaluator(labelCol=\"stars\")\n",
        "lr_auc = evaluator.evaluate(lr_predictions)\n",
        "print(f\"Logistic Regression - Área sob a Curva ROC (AUC): {lr_auc}\")"
      ]
    },
    {
      "cell_type": "code",
      "execution_count": null,
      "metadata": {
        "id": "DCHfAk6x8hRB"
      },
      "outputs": [],
      "source": [
        "# ======= Gradient-Boosted Tree Classifier =======\n",
        "gbt = GBTClassifier(featuresCol=\"word2vec_vector\", labelCol=\"stars\", maxIter=10)\n",
        "gbt_model = gbt.fit(train_data)\n",
        "gbt_predictions = gbt_model.transform(test_data)"
      ]
    },
    {
      "cell_type": "code",
      "execution_count": null,
      "metadata": {
        "id": "Fj9HE2O18hRC",
        "colab": {
          "base_uri": "https://localhost:8080/"
        },
        "outputId": "c3bb02a3-abd1-4db7-e630-c0a85ccf03ff"
      },
      "outputs": [
        {
          "output_type": "stream",
          "name": "stdout",
          "text": [
            "Gradient-Boosted Tree - Área sob a Curva ROC (AUC): 0.6615566076734909\n"
          ]
        }
      ],
      "source": [
        "# Avaliação GBT\n",
        "gbt_auc = evaluator.evaluate(gbt_predictions)\n",
        "print(f\"Gradient-Boosted Tree - Área sob a Curva ROC (AUC): {gbt_auc}\")"
      ]
    },
    {
      "cell_type": "code",
      "execution_count": null,
      "metadata": {
        "id": "untWXswP8hRC",
        "colab": {
          "base_uri": "https://localhost:8080/"
        },
        "outputId": "2aa6878e-dab5-47ef-b919-d7b408f20eec"
      },
      "outputs": [
        {
          "output_type": "stream",
          "name": "stdout",
          "text": [
            "\n",
            "Comparação dos Modelos:\n",
            "Logistic Regression AUC: 0.6791\n",
            "Gradient-Boosted Tree AUC: 0.6616\n",
            "⚡ Logistic Regression teve melhor desempenho!\n"
          ]
        }
      ],
      "source": [
        "# ======= Comparação =======\n",
        "print(\"\\nComparação dos Modelos:\")\n",
        "print(f\"Logistic Regression AUC: {lr_auc:.4f}\")\n",
        "print(f\"Gradient-Boosted Tree AUC: {gbt_auc:.4f}\")\n",
        "\n",
        "if lr_auc > gbt_auc:\n",
        "    print(\"⚡ Logistic Regression teve melhor desempenho!\")\n",
        "else:\n",
        "    print(\"🌳 Gradient-Boosted Tree teve melhor desempenho!\")"
      ]
    }
  ],
  "metadata": {
    "colab": {
      "provenance": []
    },
    "kernelspec": {
      "display_name": "Python 3",
      "name": "python3"
    },
    "language_info": {
      "name": "python"
    }
  },
  "nbformat": 4,
  "nbformat_minor": 0
}
